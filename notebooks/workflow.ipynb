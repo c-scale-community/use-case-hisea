{
 "cells": [
  {
   "cell_type": "markdown",
   "metadata": {},
   "source": [
    "# in development"
   ]
  },
  {
   "cell_type": "markdown",
   "metadata": {},
   "source": [
    "This notebook provides an example of running the hisea workflow."
   ]
  },
  {
   "cell_type": "markdown",
   "metadata": {},
   "source": [
    "## prerequisites\n",
    "1. build the docker containers to download the data following instructions on <https://github.com/c-scale-community/use-case-hisea/tree/main/scripts/download>\n",
    "2. build the docker container to preprocess the data following instructions on ... TODO"
   ]
  },
  {
   "cell_type": "code",
   "execution_count": null,
   "metadata": {},
   "outputs": [],
   "source": [
    "# TODO\n",
    "\"\"\"\n",
    "add e.g. a input.in file where a user can define a.o.\n",
    "- cdsapirclocation\n",
    "- datadownloadpath\n",
    "- longitude_min\n",
    "- longitude_max\n",
    "- latitude_min\n",
    "- latitude_max\n",
    "- date_min\n",
    "- date_max\n",
    "- modeldirectory\n",
    "- preprocesseddatapath\n",
    "parse this info to the docker run calls below\n",
    "follow https://www.baeldung.com/linux/read-specific-line-from-file and https://stackoverflow.com/questions/4749905/how-can-i-read-a-file-and-redirect-it-to-a-variable\n",
    "\"\"\""
   ]
  },
  {
   "cell_type": "markdown",
   "metadata": {},
   "source": [
    "## download ERA5 data\n",
    "Notes:\n",
    "* path to my .cdsapirc file\\\n",
    "`/Users/backeb/.cdsapirc`\n",
    "\n",
    "* path to where I am downloading the data\\\n",
    "`/Users/backeb/Documents/data`\n",
    "\n",
    "* Other input parameters:\\\n",
    "`--longitude_min 22.5`\\\n",
    "`--longitude_max 24.5`\\\n",
    "`--latitude_min 36.5`\\\n",
    "`--latitude_max 38.5`\\\n",
    "`--date_min '2022-04-01'`\\\n",
    "`--date_max '2022-04-05'`"
   ]
  },
  {
   "cell_type": "code",
   "execution_count": null,
   "metadata": {},
   "outputs": [],
   "source": [
    "!docker run -v /Users/backeb/.cdsapirc:/root/.cdsapirc -v /Users/backeb/Documents/data:/data download-input python download_era5.py --longitude_min 22.5 --longitude_max 24.5 --latitude_min 36.5 --latitude_max 38.5 --date_min '2022-04-01' --date_max '2022-04-05'"
   ]
  },
  {
   "cell_type": "markdown",
   "metadata": {},
   "source": [
    "## download CMEMS data\n",
    "Notes:\n",
    "* path to where I am downloading the data\\\n",
    "`/Users/backeb/Documents/data`\n",
    "\n",
    "* Other input parameters:\\\n",
    "`--username bbackeberg`\\\n",
    "`--password iaTmwJ7D`\\\n",
    "`--longitude_min 22.5`\\\n",
    "`--longitude_max 24.5`\\\n",
    "`--latitude_min 36.5`\\\n",
    "`--latitude_max 38.5`\\\n",
    "`--date_min '2022-04-01'`\\\n",
    "`--date_max '2022-04-05'`"
   ]
  },
  {
   "cell_type": "code",
   "execution_count": null,
   "metadata": {},
   "outputs": [],
   "source": [
    "!docker run -v /Users/backeb/Documents/data:/data download-input python download_cmems_physics.py --username bbackeberg --password iaTmwJ7D --longitude_min 22.5 --longitude_max 24.5 --latitude_min 36.5 --latitude_max 38.5 --date_min '2022-04-01' --date_max '2022-04-05'\n"
   ]
  },
  {
   "cell_type": "code",
   "execution_count": null,
   "metadata": {},
   "outputs": [],
   "source": [
    "!docker run -v ~/OneDrive\\ -\\ Stichting\\ Deltares/Desktop/Project-C-SCALE/0-HiSea_devs/tests/20220718:/data download-input python download_cmems_biogeochemistry.py --username bbackeberg --password iaTmwJ7D --longitude_min 22.5 --longitude_max 24.5 --latitude_min 36.5 --latitude_max 38.5 --date_min '2022-04-01' --date_max '2022-04-05'"
   ]
  },
  {
   "cell_type": "code",
   "execution_count": null,
   "metadata": {},
   "outputs": [],
   "source": [
    "ls -lhtr ~/OneDrive\\ -\\ Stichting\\ Deltares/Desktop/Project-C-SCALE/0-HiSea_devs/tests/20220718"
   ]
  },
  {
   "cell_type": "markdown",
   "metadata": {},
   "source": [
    "## preprocessing with coastserv\n",
    "\n",
    "Notes\n",
    "* to build the preprocessing container I did the following\n",
    "    * in `use-case-hisea/scripts/preprocessing/tide_physical_chemical/` do:\\\n",
    "    `docker build --tag preprocessing .`\n",
    "* to run the preprocessing in the docker container for `boundary.py` do:\\\n",
    "`docker run -v ~/OneDrive\\ -\\ Stichting\\ Deltares/Desktop/Project-C-SCALE/0-HiSea_devs/tests/20220718:/data/input -v /Users/backeb/Documents/REPOS/use-case-hisea/fm_model:/data/model -v ~/OneDrive\\ -\\ Stichting\\ Deltares/Desktop/Project-C-SCALE/0-HiSea_devs/tests/20220718/preprocess_output:/data/output preprocessing boundary.py --interp true --simultaneous true --steric true --input /data/input --model /data/model --output /data/output`\\\n",
    "the above has the following input parameters:\n",
    "    * the directory from which to get the downloaded CMEMS data:\\\n",
    "    `~/OneDrive\\ -\\ Stichting\\ Deltares/Desktop/Project-C-SCALE/0-HiSea_devs/tests/20220718`\n",
    "    * the directory where all the model files are:\\\n",
    "    `/Users/backeb/Documents/REPOS/use-case-hisea/fm_model`\n",
    "    * the directory where to dump the data after the preprocessing step:\\\n",
    "   `~/OneDrive\\ -\\ Stichting\\ Deltares/Desktop/Project-C-SCALE/0-HiSea_devs/tests/20220718/preprocess_output`\\"
   ]
  },
  {
   "cell_type": "code",
   "execution_count": null,
   "metadata": {},
   "outputs": [],
   "source": [
    "!docker run -v ~/OneDrive\\ -\\ Stichting\\ Deltares/Desktop/Project-C-SCALE/0-HiSea_devs/tests/20220718:/data/input -v /Users/backeb/Documents/REPOS/use-case-hisea/fm_model:/data/model -v ~/OneDrive\\ -\\ Stichting\\ Deltares/Desktop/Project-C-SCALE/0-HiSea_devs/tests/20220718/preprocess_output:/data/output preprocessing boundary.py --interp true --simultaneous true --steric true --input /data/input --model /data/model --output /data/output"
   ]
  }
 ],
 "metadata": {
  "kernelspec": {
   "display_name": "Python 3.9.12 ('base')",
   "language": "python",
   "name": "python3"
  },
  "language_info": {
   "codemirror_mode": {
    "name": "ipython",
    "version": 3
   },
   "file_extension": ".py",
   "mimetype": "text/x-python",
   "name": "python",
   "nbconvert_exporter": "python",
   "pygments_lexer": "ipython3",
   "version": "3.9.12"
  },
  "orig_nbformat": 4,
  "vscode": {
   "interpreter": {
    "hash": "5702069ab324e298b25bf22a3256178821a69813a1d201341c1bedfb7e6fbf9a"
   }
  }
 },
 "nbformat": 4,
 "nbformat_minor": 2
}
