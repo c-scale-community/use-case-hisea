{
 "cells": [
  {
   "cell_type": "markdown",
   "metadata": {},
   "source": [
    "# hisea use case workflow notebook"
   ]
  },
  {
   "cell_type": "markdown",
   "metadata": {},
   "source": [
    "This notebook provides an example of running the hisea workflow."
   ]
  },
  {
   "cell_type": "markdown",
   "metadata": {},
   "source": [
    "## prerequisites\n",
    "1. build the docker containers to download the data following instructions on <https://github.com/c-scale-community/use-case-hisea/tree/main/scripts/download>\n",
    "2. build the docker container to preprocess the data following instructions on ... TODO"
   ]
  },
  {
   "cell_type": "markdown",
   "metadata": {},
   "source": [
    "## download ERA5 data\n",
    "Notes:\n",
    "* path to my .cdsapirc file\\\n",
    "`/Users/backeb/.cdsapirc`\n",
    "* path to where I am downloading the data\\\n",
    "`~/OneDrive\\ -\\ Stichting\\ Deltares/Desktop/Project-C-SCALE/0-HiSea_devs/tests/20220718`\n",
    "\n",
    "* Other input parameters:\\\n",
    "`--longitude_min 22.5`\\\n",
    "`--longitude_max 24.5`\\\n",
    "`--latitude_min 36.5`\\\n",
    "`--latitude_max 38.5`\\\n",
    "`--date_min '2022-04-01'`\\\n",
    "`--date_max '2022-04-05'`"
   ]
  },
  {
   "cell_type": "code",
   "execution_count": null,
   "metadata": {},
   "outputs": [],
   "source": [
    "# TODO\n",
    "\"\"\"\n",
    "add e.g. a input.in file where a user can define a.o.\n",
    "- cdsapirclocation\n",
    "- datadownloadpath\n",
    "- longitude_min\n",
    "- longitude_max\n",
    "- latitude_min\n",
    "- latitude_max\n",
    "- date_min\n",
    "- date_max\n",
    "- modeldirectory\n",
    "- preprocesseddatapath\n",
    "parse this info to the docker run calls below\n",
    "follow https://www.baeldung.com/linux/read-specific-line-from-file and https://stackoverflow.com/questions/4749905/how-can-i-read-a-file-and-redirect-it-to-a-variable\n",
    "\"\"\""
   ]
  },
  {
   "cell_type": "code",
   "execution_count": null,
   "metadata": {},
   "outputs": [],
   "source": [
    "!docker run -v /Users/backeb/.cdsapirc:/root/.cdsapirc -v ~/OneDrive\\ -\\ Stichting\\ Deltares/Desktop/Project-C-SCALE/0-HiSea_devs/tests/20220718:/data download-input python download_era5.py --longitude_min 22.5 --longitude_max 24.5 --latitude_min 36.5 --latitude_max 38.5 --date_min '2022-04-01' --date_max '2022-04-05'"
   ]
  },
  {
   "cell_type": "markdown",
   "metadata": {},
   "source": [
    "## download CMEMS data\n",
    "Notes:\n",
    "* path to where I am downloading the data\\\n",
    "`~/OneDrive\\ -\\ Stichting\\ Deltares/Desktop/Project-C-SCALE/0-HiSea_devs/tests/20220718`\n",
    "* Other input parameters:\\\n",
    "`--username bbackeberg`\\\n",
    "`--password iaTmwJ7D`\\\n",
    "`--longitude_min 22.5`\\\n",
    "`--longitude_max 24.5`\\\n",
    "`--latitude_min 36.5`\\\n",
    "`--latitude_max 38.5`\\\n",
    "`--date_min '2022-04-01'`\\\n",
    "`--date_max '2022-04-05'`"
   ]
  },
  {
   "cell_type": "code",
   "execution_count": 3,
   "metadata": {},
   "outputs": [
    {
     "name": "stdout",
     "output_type": "stream",
     "text": [
      "2022-07-19 09:18:33.698 [ INFO] Asynchronous mode set\n",
      "2022-07-19 09:18:33.699 [ INFO] Authenticating user bbackeberg for service https://nrt.cmems-du.eu/motu-web/Motu\n",
      "2022-07-19 09:18:35.467 [ INFO] Requesting file to download (this can take a while)...\n",
      "2022-07-19 09:18:41.061 [ INFO] Authenticating user bbackeberg for service https://nrt.cmems-du.eu/motu-web/Motu\n",
      "2022-07-19 09:18:47.644 [ INFO] Product is not yet available (request in progress)\n",
      "2022-07-19 09:18:57.656 [ INFO] Authenticating user bbackeberg for service https://nrt.cmems-du.eu/motu-web/Motu\n",
      "2022-07-19 09:19:05.183 [ INFO] Product is not yet available (request in progress)\n",
      "2022-07-19 09:19:15.197 [ INFO] Authenticating user bbackeberg for service https://nrt.cmems-du.eu/motu-web/Motu\n",
      "2022-07-19 09:19:22.285 [ INFO] The product is ready for download\n",
      "2022-07-19 09:19:22.285 [ INFO] Downloading file (this can take a while)...\n",
      "2022-07-19 09:19:22.472 [ INFO] File type: application/x-netcdf\n",
      "2022-07-19 09:19:22.472 [ INFO] File size: 1.3 MB (1267528 B)\n",
      "2022-07-19 09:19:22.472 [ INFO] Downloading file /data/cmems_thetao_bottomT_so_zos_uo_vo.nc\n",
      "2022-07-19 09:19:22.551 [ INFO] -   1.3 MB (5.2%)\n",
      "2022-07-19 09:19:22.570 [ INFO] -   1.3 MB (10.3%)\n",
      "2022-07-19 09:19:22.594 [ INFO] -   1.3 MB (15.5%)\n",
      "2022-07-19 09:19:22.609 [ INFO] -   1.3 MB (20.7%)\n",
      "2022-07-19 09:19:22.612 [ INFO] -   1.3 MB (25.9%)\n",
      "2022-07-19 09:19:22.615 [ INFO] -   1.3 MB (31.0%)\n",
      "2022-07-19 09:19:22.654 [ INFO] -   1.3 MB (36.2%)\n",
      "2022-07-19 09:19:22.658 [ INFO] -   1.3 MB (41.4%)\n",
      "2022-07-19 09:19:22.662 [ INFO] -   1.3 MB (46.5%)\n",
      "2022-07-19 09:19:22.665 [ INFO] -   1.3 MB (51.7%)\n",
      "2022-07-19 09:19:22.669 [ INFO] -   1.3 MB (56.9%)\n",
      "2022-07-19 09:19:22.671 [ INFO] -   1.3 MB (62.0%)\n",
      "2022-07-19 09:19:22.674 [ INFO] -   1.3 MB (67.2%)\n",
      "2022-07-19 09:19:22.691 [ INFO] -   1.3 MB (72.4%)\n",
      "2022-07-19 09:19:22.701 [ INFO] -   1.3 MB (77.6%)\n",
      "2022-07-19 09:19:22.704 [ INFO] -   1.3 MB (82.7%)\n",
      "2022-07-19 09:19:22.706 [ INFO] -   1.3 MB (87.9%)\n",
      "2022-07-19 09:19:22.710 [ INFO] -   1.3 MB (93.1%)\n",
      "2022-07-19 09:19:22.712 [ INFO] -   1.3 MB (98.2%)\n",
      "2022-07-19 09:19:22.713 [ INFO] -   1.3 MB (100.0%)\n",
      "2022-07-19 09:19:22.713 [ INFO] Processing  time : 0:00:48.774211\n",
      "2022-07-19 09:19:22.713 [ INFO] Downloading time : 0:00:00.240929\n",
      "2022-07-19 09:19:22.713 [ INFO] Total time       : 0:00:49.015140\n",
      "2022-07-19 09:19:22.713 [ INFO] Download rate    : 3.0 MB/s\n",
      "2022-07-19 09:19:22.713 [ INFO] Done\n"
     ]
    }
   ],
   "source": [
    "!docker run -v ~/OneDrive\\ -\\ Stichting\\ Deltares/Desktop/Project-C-SCALE/0-HiSea_devs/tests/20220718:/data download-input python download_cmems_physics.py --username bbackeberg --password iaTmwJ7D --longitude_min 22.5 --longitude_max 24.5 --latitude_min 36.5 --latitude_max 38.5 --date_min '2022-04-01' --date_max '2022-04-05'"
   ]
  },
  {
   "cell_type": "code",
   "execution_count": 4,
   "metadata": {},
   "outputs": [
    {
     "name": "stdout",
     "output_type": "stream",
     "text": [
      "2022-07-19 09:19:23.509 [ INFO] Asynchronous mode set\n",
      "2022-07-19 09:19:23.510 [ INFO] Authenticating user bbackeberg for service https://nrt.cmems-du.eu/motu-web/Motu\n",
      "2022-07-19 09:19:24.872 [ INFO] Requesting file to download (this can take a while)...\n",
      "2022-07-19 09:19:30.386 [ INFO] Authenticating user bbackeberg for service https://nrt.cmems-du.eu/motu-web/Motu\n",
      "2022-07-19 09:19:37.435 [ INFO] The product is ready for download\n",
      "2022-07-19 09:19:37.436 [ INFO] Downloading file (this can take a while)...\n",
      "2022-07-19 09:19:37.611 [ INFO] File type: application/x-netcdf\n",
      "2022-07-19 09:19:37.611 [ INFO] File size: 409.9 kB (409940 B)\n",
      "2022-07-19 09:19:37.612 [ INFO] Downloading file /data/cmems_no3_o2_phyc_po4_si.nc\n",
      "2022-07-19 09:19:37.706 [ INFO] - 409.9 kB (16.0%)\n",
      "2022-07-19 09:19:37.727 [ INFO] - 409.9 kB (32.0%)\n",
      "2022-07-19 09:19:37.731 [ INFO] - 409.9 kB (48.0%)\n",
      "2022-07-19 09:19:37.767 [ INFO] - 409.9 kB (63.9%)\n",
      "2022-07-19 09:19:37.770 [ INFO] - 409.9 kB (79.9%)\n",
      "2022-07-19 09:19:37.772 [ INFO] - 409.9 kB (95.9%)\n",
      "2022-07-19 09:19:37.775 [ INFO] - 409.9 kB (100.0%)\n",
      "2022-07-19 09:19:37.775 [ INFO] Processing  time : 0:00:14.102018\n",
      "2022-07-19 09:19:37.775 [ INFO] Downloading time : 0:00:00.163438\n",
      "2022-07-19 09:19:37.775 [ INFO] Total time       : 0:00:14.265456\n",
      "2022-07-19 09:19:37.775 [ INFO] Download rate    : 1.2 MB/s\n",
      "2022-07-19 09:19:37.775 [ INFO] Done\n"
     ]
    }
   ],
   "source": [
    "!docker run -v ~/OneDrive\\ -\\ Stichting\\ Deltares/Desktop/Project-C-SCALE/0-HiSea_devs/tests/20220718:/data download-input python download_cmems_biogeochemistry.py --username bbackeberg --password iaTmwJ7D --longitude_min 22.5 --longitude_max 24.5 --latitude_min 36.5 --latitude_max 38.5 --date_min '2022-04-01' --date_max '2022-04-05'"
   ]
  },
  {
   "cell_type": "code",
   "execution_count": 6,
   "metadata": {},
   "outputs": [
    {
     "name": "stdout",
     "output_type": "stream",
     "text": [
      "total 3328\n",
      "-rw-r--r--  1 user  staff    18K Jul 18 15:27 era5.nc\n",
      "drwxr-xr-x  6 user  staff   192B Jul 18 15:40 \u001b[34mpreprocess_output\u001b[m\u001b[m/\n",
      "-rw-r--r--  1 user  staff   1.2M Jul 19 11:19 cmems_thetao_bottomT_so_zos_uo_vo.nc\n",
      "-rw-r--r--  1 user  staff   400K Jul 19 11:19 cmems_no3_o2_phyc_po4_si.nc\n"
     ]
    }
   ],
   "source": [
    "ls -lhtr ~/OneDrive\\ -\\ Stichting\\ Deltares/Desktop/Project-C-SCALE/0-HiSea_devs/tests/20220718"
   ]
  },
  {
   "cell_type": "markdown",
   "metadata": {},
   "source": [
    "## preprocess with hydrolib\n",
    "I need to create the following files:\n",
    "* salinity_east2.bc\n",
    "* salinity_south2.bc\n",
    "* steric_east2.bc\n",
    "* steric_south2.bc\n",
    "* temperature_east2.bc\n",
    "* temperature_south2.bc\n",
    "* tide_east2.bc\n",
    "* tide_south2.bc\n",
    "* uxuy_east2.bc\n",
    "\n",
    "and I have the following files:\n",
    "* DFMWAQ_east2_tmp.ext\n",
    "* DFMWAQ_south2_tmp.ext\n",
    "* boundary1_waq.ext\n",
    "* east2.ext\n",
    "* east2.pli\n",
    "* south2.ext\n",
    "* south2.pli\n",
    "* wind_heat_waq.ext"
   ]
  },
  {
   "cell_type": "markdown",
   "metadata": {},
   "source": [
    "## write .bc with hydrolib-core"
   ]
  },
  {
   "cell_type": "code",
   "execution_count": 9,
   "metadata": {},
   "outputs": [
    {
     "data": {
      "text/plain": [
       "(5, 25, 25)"
      ]
     },
     "execution_count": 9,
     "metadata": {},
     "output_type": "execute_result"
    }
   ],
   "source": [
    "import xarray as xr\n",
    "# xarray dependencies:\n",
    "#   conda install xarray\n",
    "#   conda install netcdf4\n",
    "#   conda install -c conda-forge h5netcdf\n",
    "#   conda install scipy\n",
    "from hydrolib.core.io.bc.models import ForcingModel, TimeSeries\n",
    "# to install hydrolib do \n",
    "#   `pip install hydrolib-core`\n",
    "#   `conda create -n hydrolib python=3.8 -c conda-forge` and switch to hydrolib env in vsc\n",
    "# additional dependency: `conda install -n hydrolib ipykernel --update-deps --force-reinstall`\n",
    "\n",
    "\n",
    "pname = '/Users/backeb/OneDrive - Stichting Deltares/Desktop/Project-C-SCALE/0-HiSea_devs/tests/20220718/'\n",
    "ds = xr.open_dataset(pname+'cmems_thetao_bottomT_so_zos_uo_vo.nc')\n",
    "\n",
    "import numpy\n",
    "numpy.shape(ds.zos.data)\n",
    "\n",
    "#model = ForcingModel()\n",
    "#steric = TimeSeries(ds.zos.data)\n",
    "\n",
    "\n"
   ]
  },
  {
   "cell_type": "code",
   "execution_count": 19,
   "metadata": {},
   "outputs": [
    {
     "data": {
      "text/plain": [
       "4"
      ]
     },
     "execution_count": 19,
     "metadata": {},
     "output_type": "execute_result"
    }
   ],
   "source": [
    "ds\n",
    "len(numpy.shape(ds.vo))"
   ]
  },
  {
   "cell_type": "markdown",
   "metadata": {},
   "source": [
    "## preprocessing with coastserv\n",
    "\n",
    "Notes\n",
    "* to build the preprocessing container I did the following\n",
    "    * in `use-case-hisea/scripts/preprocessing/tide_physical_chemical/` do:\\\n",
    "    `docker build --tag preprocessing .`\n",
    "* to run the preprocessing in the docker container for `boundary.py` do:\\\n",
    "`docker run -v ~/OneDrive\\ -\\ Stichting\\ Deltares/Desktop/Project-C-SCALE/0-HiSea_devs/tests/20220718:/data/input -v /Users/backeb/Documents/REPOS/use-case-hisea/fm_model:/data/model -v ~/OneDrive\\ -\\ Stichting\\ Deltares/Desktop/Project-C-SCALE/0-HiSea_devs/tests/20220718/preprocess_output:/data/output preprocessing boundary.py --interp true --simultaneous true --steric true --input /data/input --model /data/model --output /data/output`\\\n",
    "the above has the following input parameters:\n",
    "    * the directory from which to get the downloaded CMEMS data:\\\n",
    "    `~/OneDrive\\ -\\ Stichting\\ Deltares/Desktop/Project-C-SCALE/0-HiSea_devs/tests/20220718`\n",
    "    * the directory where all the model files are:\\\n",
    "    `/Users/backeb/Documents/REPOS/use-case-hisea/fm_model`\n",
    "    * the directory where to dump the data after the preprocessing step:\\\n",
    "   `~/OneDrive\\ -\\ Stichting\\ Deltares/Desktop/Project-C-SCALE/0-HiSea_devs/tests/20220718/preprocess_output`\\"
   ]
  },
  {
   "cell_type": "code",
   "execution_count": 10,
   "metadata": {},
   "outputs": [
    {
     "name": "stdout",
     "output_type": "stream",
     "text": [
      "ERROR conda.cli.main_run:execute(41): `conda run python boundary.py --interp true --simultaneous true --steric true --input /data/input --model /data/model --output /data/output` failed. (See above for error)\n",
      "Traceback (most recent call last):\n",
      "  File \"/app/boundary.py\", line 83, in <module>\n",
      "    boundary()\n",
      "  File \"/opt/conda/envs/coastserv/lib/python3.10/site-packages/click/core.py\", line 1130, in __call__\n",
      "    return self.main(*args, **kwargs)\n",
      "  File \"/opt/conda/envs/coastserv/lib/python3.10/site-packages/click/core.py\", line 1055, in main\n",
      "    rv = self.invoke(ctx)\n",
      "  File \"/opt/conda/envs/coastserv/lib/python3.10/site-packages/click/core.py\", line 1404, in invoke\n",
      "    return ctx.invoke(self.callback, **ctx.params)\n",
      "  File \"/opt/conda/envs/coastserv/lib/python3.10/site-packages/click/core.py\", line 760, in invoke\n",
      "    return __callback(*args, **kwargs)\n",
      "  File \"/app/boundary.py\", line 78, in boundary\n",
      "    test.build_boundary(interp=interp, simultaneous=simultaneous, steric=steric)\n",
      "  File \"/app/coastserv/models/boundary.py\", line 54, in build_boundary\n",
      "    self.make_boundary()\n",
      "  File \"/app/coastserv/models/boundary.py\", line 79, in make_boundary\n",
      "    self.process_bc()\n",
      "  File \"/app/coastserv/models/boundary.py\", line 223, in process_bc\n",
      "    self.write_bc_file(sub, bnd)\n",
      "  File \"/app/coastserv/models/boundary.py\", line 250, in write_bc_file\n",
      "    times, depths, data, fill = self.read_nc_data(data_list, bnd, csub)\n",
      "  File \"/app/coastserv/models/boundary.py\", line 336, in read_nc_data\n",
      "    arr = self.get_interp_array_multiple(ds, part_sub, bnd, times, depths)\n",
      "  File \"/app/coastserv/models/boundary.py\", line 573, in get_interp_array_multiple\n",
      "    arr_t = ds.variables[sub][:, :, :, :]  \n",
      "  File \"src/netCDF4/_netCDF4.pyx\", line 4715, in netCDF4._netCDF4.Variable.__getitem__\n",
      "  File \"/opt/conda/envs/coastserv/lib/python3.10/site-packages/netCDF4/utils.py\", line 338, in _StartCountStride\n",
      "    raise ValueError(\"slicing expression exceeds the number of dimensions of the variable\")\n",
      "ValueError: slicing expression exceeds the number of dimensions of the variable\n",
      "\n",
      " \n",
      "Model reference date is: 2015-01-01 00:00:00\n",
      " \n",
      "running with options interp = True, simultaneous = True, steric = true\n",
      "files for phyc: 1\n",
      "files for phyc: 1\n",
      "files for phyc: 1\n",
      "files for phyc: 1\n",
      "files for o2: 1\n",
      "files for no3: 1\n",
      "files for po4: 1\n",
      "files for so: 1\n",
      "files for thetao: 1\n",
      "files for uo: 1\n",
      "files for zos: 1\n",
      "files for phyc: 1\n",
      "files for phyc: 1\n",
      "files for si: 1\n",
      "Data files found for all variables\n",
      "subs:\n",
      "['Opal', 'PON1', 'POP1', 'POC1', 'OXY', 'NO3', 'PO4', 'salinity', 'temperature', 'uxuy', 'steric', 'Green', 'Diat', 'Si']\n",
      "# of files available:\n",
      "[1 1 1 1 1 1 1 1 1 1 1 1 1 1]\n",
      "['Opal', 'PON1', 'POP1', 'POC1', 'OXY', 'NO3', 'PO4', 'salinity', 'temperature', 'uxuy', 'steric', 'Green', 'Diat', 'Si'] newsublist\n",
      "substance: Opal\n",
      "reading data...\n",
      "['phyc'] printing the csub value\n",
      "reading data file cmems_no3_o2_phyc_po4_si.nc\n",
      "phyc multiple interpolation took 0 seconds on time chunk 1/1\n",
      "finished reading data\n",
      "writing file...\n",
      "finished writing Opal boundary for position 18/18 in boundary east2\n",
      "substance: PON1\n",
      "reading data...\n",
      "['phyc'] printing the csub value\n",
      "reading data file cmems_no3_o2_phyc_po4_si.nc\n",
      "phyc multiple interpolation took 0 seconds on time chunk 1/1\n",
      "finished reading data\n",
      "writing file...\n",
      "finished writing PON1 boundary for position 18/18 in boundary east2\n",
      "substance: POP1\n",
      "reading data...\n",
      "['phyc'] printing the csub value\n",
      "reading data file cmems_no3_o2_phyc_po4_si.nc\n",
      "phyc multiple interpolation took 0 seconds on time chunk 1/1\n",
      "finished reading data\n",
      "writing file...\n",
      "finished writing POP1 boundary for position 18/18 in boundary east2\n",
      "substance: POC1\n",
      "reading data...\n",
      "['phyc'] printing the csub value\n",
      "reading data file cmems_no3_o2_phyc_po4_si.nc\n",
      "phyc multiple interpolation took 0 seconds on time chunk 1/1\n",
      "finished reading data\n",
      "writing file...\n",
      "finished writing POC1 boundary for position 18/18 in boundary east2\n",
      "substance: OXY\n",
      "reading data...\n",
      "['o2'] printing the csub value\n",
      "reading data file cmems_no3_o2_phyc_po4_si.nc\n",
      "o2 multiple interpolation took 0 seconds on time chunk 1/1\n",
      "finished reading data\n",
      "writing file...\n",
      "finished writing OXY boundary for position 18/18 in boundary east2\n",
      "substance: NO3\n",
      "reading data...\n",
      "['no3'] printing the csub value\n",
      "reading data file cmems_no3_o2_phyc_po4_si.nc\n",
      "no3 multiple interpolation took 0 seconds on time chunk 1/1\n",
      "finished reading data\n",
      "writing file...\n",
      "finished writing NO3 boundary for position 18/18 in boundary east2\n",
      "substance: PO4\n",
      "reading data...\n",
      "['po4'] printing the csub value\n",
      "reading data file cmems_no3_o2_phyc_po4_si.nc\n",
      "po4 multiple interpolation took 0 seconds on time chunk 1/1\n",
      "finished reading data\n",
      "writing file...\n",
      "finished writing PO4 boundary for position 18/18 in boundary east2\n",
      "substance: salinity\n",
      "reading data...\n",
      "['so'] printing the csub value\n",
      "reading data file cmems_thetao_bottomT_so_zos_uo_vo.nc\n",
      "so multiple interpolation took 0 seconds on time chunk 1/1\n",
      "finished reading data\n",
      "writing file...\n",
      "finished writing salinity boundary for position 18/18 in boundary east2\n",
      "substance: temperature\n",
      "reading data...\n",
      "['thetao'] printing the csub value\n",
      "reading data file cmems_thetao_bottomT_so_zos_uo_vo.nc\n",
      "thetao multiple interpolation took 0 seconds on time chunk 1/1\n",
      "finished reading data\n",
      "writing file...\n",
      "finished writing temperature boundary for position 18/18 in boundary east2\n",
      "substance: uxuy\n",
      "reading data...\n",
      "['uo', 'vo'] printing the csub value\n",
      "reading data file cmems_thetao_bottomT_so_zos_uo_vo.nc\n",
      "uo multiple interpolation took 0 seconds on time chunk 1/1\n",
      "reading data file cmems_thetao_bottomT_so_zos_uo_vo.nc\n",
      "vo multiple interpolation took 0 seconds on time chunk 1/1\n",
      "finished reading data\n",
      "writing file...\n",
      "finished writing uxuy boundary for position 18/18 in boundary east2\n",
      "substance: steric\n",
      "reading data...\n",
      "['zos'] printing the csub value\n",
      "reading data file cmems_thetao_bottomT_so_zos_uo_vo.nc\n",
      "\n"
     ]
    }
   ],
   "source": [
    "!docker run -v ~/OneDrive\\ -\\ Stichting\\ Deltares/Desktop/Project-C-SCALE/0-HiSea_devs/tests/20220718:/data/input -v /Users/backeb/Documents/REPOS/use-case-hisea/fm_model:/data/model -v ~/OneDrive\\ -\\ Stichting\\ Deltares/Desktop/Project-C-SCALE/0-HiSea_devs/tests/20220718/preprocess_output:/data/output preprocessing boundary.py --interp true --simultaneous true --steric true --input /data/input --model /data/model --output /data/output"
   ]
  },
  {
   "cell_type": "code",
   "execution_count": null,
   "metadata": {},
   "outputs": [],
   "source": []
  }
 ],
 "metadata": {
  "kernelspec": {
   "display_name": "Python 3.8.13 ('hydrolib')",
   "language": "python",
   "name": "python3"
  },
  "language_info": {
   "codemirror_mode": {
    "name": "ipython",
    "version": 3
   },
   "file_extension": ".py",
   "mimetype": "text/x-python",
   "name": "python",
   "nbconvert_exporter": "python",
   "pygments_lexer": "ipython3",
   "version": "3.8.13"
  },
  "orig_nbformat": 4,
  "vscode": {
   "interpreter": {
    "hash": "ebf6a3cb10c3b323eabf3e759445cc79642e64524aa0a15b34bd3dc11fc1d5ab"
   }
  }
 },
 "nbformat": 4,
 "nbformat_minor": 2
}
