{
 "cells": [
  {
   "cell_type": "markdown",
   "metadata": {},
   "source": [
    "# hisea use case workflow notebook"
   ]
  },
  {
   "cell_type": "markdown",
   "metadata": {},
   "source": [
    "This notebook provides an example of running the hisea workflow."
   ]
  },
  {
   "cell_type": "markdown",
   "metadata": {},
   "source": [
    "## prerequisites\n",
    "1. build the docker containers to download the data following instructions on <https://github.com/c-scale-community/use-case-hisea/tree/main/scripts/download>\n",
    "2. build the docker container to preprocess the data following instructions on ... TODO"
   ]
  },
  {
   "cell_type": "markdown",
   "metadata": {},
   "source": [
    "## download ERA5 data\n",
    "Notes:\n",
    "* path to my .cdsapirc file\\\n",
    "`/Users/backeb/.cdsapirc`\n",
    "* path to where I am downloading the data\\\n",
    "`~/OneDrive\\ -\\ Stichting\\ Deltares/Desktop/Project-C-SCALE/0-HiSea_devs/tests/20220718`\n",
    "\n",
    "* Other input parameters:\\\n",
    "`--longitude_min 22.5`\\\n",
    "`--longitude_max 24.5`\\\n",
    "`--latitude_min 36.5`\\\n",
    "`--latitude_max 38.5`\\\n",
    "`--date_min '2022-04-01'`\\\n",
    "`--date_max '2022-04-05'`"
   ]
  },
  {
   "cell_type": "code",
   "execution_count": 1,
   "metadata": {},
   "outputs": [
    {
     "name": "stdout",
     "output_type": "stream",
     "text": [
      "2022-07-18 13:27:12,047 INFO Welcome to the CDS\n",
      "2022-07-18 13:27:12,048 INFO Sending request to https://cds.climate.copernicus.eu/api/v2/resources/reanalysis-era5-single-levels\n",
      "2022-07-18 13:27:12,212 INFO Request is completed\n",
      "2022-07-18 13:27:12,212 INFO Downloading https://download-0018.copernicus-climate.eu/cache-compute-0018/cache/data4/adaptor.mars.internal-1658134213.684331-26016-15-abfc85a3-68fe-434a-a535-a6be6af199be.nc to /data/era5.nc (17.9K)\n",
      "2022-07-18 13:27:12,585 INFO Download rate 48.2K/s\n"
     ]
    }
   ],
   "source": [
    "!docker run -v /Users/backeb/.cdsapirc:/root/.cdsapirc -v ~/OneDrive\\ -\\ Stichting\\ Deltares/Desktop/Project-C-SCALE/0-HiSea_devs/tests/20220718:/data download-input python download_era5.py --longitude_min 22.5 --longitude_max 24.5 --latitude_min 36.5 --latitude_max 38.5 --date_min '2022-04-01' --date_max '2022-04-05'"
   ]
  },
  {
   "cell_type": "markdown",
   "metadata": {},
   "source": [
    "## download CMEMS data\n",
    "Notes:\n",
    "* path to where I am downloading the data\\\n",
    "`~/OneDrive\\ -\\ Stichting\\ Deltares/Desktop/Project-C-SCALE/0-HiSea_devs/tests/20220718`\n",
    "* Other input parameters:\\\n",
    "`--username bbackeberg`\\\n",
    "`--password iaTmwJ7D`\\\n",
    "`--longitude_min 22.5`\\\n",
    "`--longitude_max 24.5`\\\n",
    "`--latitude_min 36.5`\\\n",
    "`--latitude_max 38.5`\\\n",
    "`--date_min '2022-04-01'`\\\n",
    "`--date_max '2022-04-05'`"
   ]
  },
  {
   "cell_type": "code",
   "execution_count": 2,
   "metadata": {},
   "outputs": [
    {
     "name": "stdout",
     "output_type": "stream",
     "text": [
      "2022-07-18 13:27:18.704 [ INFO] Asynchronous mode set\n",
      "2022-07-18 13:27:18.704 [ INFO] Authenticating user bbackeberg for service https://nrt.cmems-du.eu/motu-web/Motu\n",
      "2022-07-18 13:27:19.311 [ INFO] Requesting file to download (this can take a while)...\n",
      "2022-07-18 13:27:24.758 [ INFO] Authenticating user bbackeberg for service https://nrt.cmems-du.eu/motu-web/Motu\n",
      "2022-07-18 13:27:30.826 [ INFO] The product is ready for download\n",
      "2022-07-18 13:27:30.827 [ INFO] Downloading file (this can take a while)...\n",
      "2022-07-18 13:27:30.990 [ INFO] File type: application/x-netcdf\n",
      "2022-07-18 13:27:30.990 [ INFO] File size: 1.3 MB (1267528 B)\n",
      "2022-07-18 13:27:30.991 [ INFO] Downloading file /data/cmems_thetao_bottomT_so_zos_uo_vo.nc\n",
      "2022-07-18 13:27:31.038 [ INFO] -   1.3 MB (5.2%)\n",
      "2022-07-18 13:27:31.043 [ INFO] -   1.3 MB (10.3%)\n",
      "2022-07-18 13:27:31.046 [ INFO] -   1.3 MB (15.5%)\n",
      "2022-07-18 13:27:31.056 [ INFO] -   1.3 MB (20.7%)\n",
      "2022-07-18 13:27:31.062 [ INFO] -   1.3 MB (25.9%)\n",
      "2022-07-18 13:27:31.082 [ INFO] -   1.3 MB (31.0%)\n",
      "2022-07-18 13:27:31.089 [ INFO] -   1.3 MB (36.2%)\n",
      "2022-07-18 13:27:31.097 [ INFO] -   1.3 MB (41.4%)\n",
      "2022-07-18 13:27:31.108 [ INFO] -   1.3 MB (46.5%)\n",
      "2022-07-18 13:27:31.113 [ INFO] -   1.3 MB (51.7%)\n",
      "2022-07-18 13:27:31.121 [ INFO] -   1.3 MB (56.9%)\n",
      "2022-07-18 13:27:31.125 [ INFO] -   1.3 MB (62.0%)\n",
      "2022-07-18 13:27:31.136 [ INFO] -   1.3 MB (67.2%)\n",
      "2022-07-18 13:27:31.143 [ INFO] -   1.3 MB (72.4%)\n",
      "2022-07-18 13:27:31.151 [ INFO] -   1.3 MB (77.6%)\n",
      "2022-07-18 13:27:31.157 [ INFO] -   1.3 MB (82.7%)\n",
      "2022-07-18 13:27:31.164 [ INFO] -   1.3 MB (87.9%)\n",
      "2022-07-18 13:27:31.171 [ INFO] -   1.3 MB (93.1%)\n",
      "2022-07-18 13:27:31.177 [ INFO] -   1.3 MB (98.2%)\n",
      "2022-07-18 13:27:31.178 [ INFO] -   1.3 MB (100.0%)\n",
      "2022-07-18 13:27:31.179 [ INFO] Processing  time : 0:00:12.286612\n",
      "2022-07-18 13:27:31.179 [ INFO] Downloading time : 0:00:00.188059\n",
      "2022-07-18 13:27:31.179 [ INFO] Total time       : 0:00:12.474671\n",
      "2022-07-18 13:27:31.179 [ INFO] Download rate    : 3.6 MB/s\n",
      "2022-07-18 13:27:31.179 [ INFO] Done\n"
     ]
    }
   ],
   "source": [
    "!docker run -v ~/OneDrive\\ -\\ Stichting\\ Deltares/Desktop/Project-C-SCALE/0-HiSea_devs/tests/20220718:/data download-input python download_cmems_physics.py --username bbackeberg --password iaTmwJ7D --longitude_min 22.5 --longitude_max 24.5 --latitude_min 36.5 --latitude_max 38.5 --date_min '2022-04-01' --date_max '2022-04-05'"
   ]
  },
  {
   "cell_type": "code",
   "execution_count": 1,
   "metadata": {},
   "outputs": [
    {
     "name": "stdout",
     "output_type": "stream",
     "text": [
      "total 2520\n",
      "-rw-r--r--  1 user  staff    18376 Jul 18 15:27 era5.nc\n",
      "-rw-r--r--  1 user  staff  1267528 Jul 18 15:27 cmems_thetao_bottomT_so_zos_uo_vo.nc\n",
      "drwxr-xr-x  6 user  staff      192 Jul 18 15:40 \u001b[34mpreprocess_output\u001b[m\u001b[m/\n"
     ]
    }
   ],
   "source": [
    "ls -ltr ~/OneDrive\\ -\\ Stichting\\ Deltares/Desktop/Project-C-SCALE/0-HiSea_devs/tests/20220718"
   ]
  },
  {
   "cell_type": "markdown",
   "metadata": {},
   "source": [
    "## load .nc into memory"
   ]
  },
  {
   "cell_type": "code",
   "execution_count": 1,
   "metadata": {},
   "outputs": [
    {
     "ename": "FileNotFoundError",
     "evalue": "[Errno 2] Unable to open file (unable to open file: name = '/Users/backeb/OneDrive\\ -\\ Stichting\\ Deltares/Desktop/Project-C-SCALE/0-HiSea_devs/tests/20220718/cmems_thetao_bottomT_so_zos_uo_vo.nc', errno = 2, error message = 'No such file or directory', flags = 0, o_flags = 0)",
     "output_type": "error",
     "traceback": [
      "\u001b[0;31m---------------------------------------------------------------------------\u001b[0m",
      "\u001b[0;31mKeyError\u001b[0m                                  Traceback (most recent call last)",
      "File \u001b[0;32m~/opt/miniconda3/lib/python3.9/site-packages/xarray/backends/file_manager.py:199\u001b[0m, in \u001b[0;36mCachingFileManager._acquire_with_cache_info\u001b[0;34m(self, needs_lock)\u001b[0m\n\u001b[1;32m    198\u001b[0m \u001b[39mtry\u001b[39;00m:\n\u001b[0;32m--> 199\u001b[0m     file \u001b[39m=\u001b[39m \u001b[39mself\u001b[39;49m\u001b[39m.\u001b[39;49m_cache[\u001b[39mself\u001b[39;49m\u001b[39m.\u001b[39;49m_key]\n\u001b[1;32m    200\u001b[0m \u001b[39mexcept\u001b[39;00m \u001b[39mKeyError\u001b[39;00m:\n",
      "File \u001b[0;32m~/opt/miniconda3/lib/python3.9/site-packages/xarray/backends/lru_cache.py:53\u001b[0m, in \u001b[0;36mLRUCache.__getitem__\u001b[0;34m(self, key)\u001b[0m\n\u001b[1;32m     52\u001b[0m \u001b[39mwith\u001b[39;00m \u001b[39mself\u001b[39m\u001b[39m.\u001b[39m_lock:\n\u001b[0;32m---> 53\u001b[0m     value \u001b[39m=\u001b[39m \u001b[39mself\u001b[39;49m\u001b[39m.\u001b[39;49m_cache[key]\n\u001b[1;32m     54\u001b[0m     \u001b[39mself\u001b[39m\u001b[39m.\u001b[39m_cache\u001b[39m.\u001b[39mmove_to_end(key)\n",
      "\u001b[0;31mKeyError\u001b[0m: [<class 'h5netcdf.core.File'>, ('/Users/backeb/OneDrive\\\\ -\\\\ Stichting\\\\ Deltares/Desktop/Project-C-SCALE/0-HiSea_devs/tests/20220718/cmems_thetao_bottomT_so_zos_uo_vo.nc',), 'r', (('decode_vlen_strings', True), ('invalid_netcdf', None))]",
      "\nDuring handling of the above exception, another exception occurred:\n",
      "\u001b[0;31mFileNotFoundError\u001b[0m                         Traceback (most recent call last)",
      "\u001b[1;32m/Users/backeb/Documents/REPOS/use-case-hisea/notebooks/workflow.ipynb Cell 10\u001b[0m in \u001b[0;36m<cell line: 4>\u001b[0;34m()\u001b[0m\n\u001b[1;32m      <a href='vscode-notebook-cell:/Users/backeb/Documents/REPOS/use-case-hisea/notebooks/workflow.ipynb#ch0000009?line=0'>1</a>\u001b[0m \u001b[39mimport\u001b[39;00m \u001b[39mxarray\u001b[39;00m \u001b[39mas\u001b[39;00m \u001b[39mxr\u001b[39;00m\n\u001b[1;32m      <a href='vscode-notebook-cell:/Users/backeb/Documents/REPOS/use-case-hisea/notebooks/workflow.ipynb#ch0000009?line=1'>2</a>\u001b[0m dname \u001b[39m=\u001b[39m \u001b[39m'\u001b[39m\u001b[39m~/OneDrive\u001b[39m\u001b[39m\\\u001b[39m\u001b[39m -\u001b[39m\u001b[39m\\\u001b[39m\u001b[39m Stichting\u001b[39m\u001b[39m\\\u001b[39m\u001b[39m Deltares/Desktop/Project-C-SCALE/0-HiSea_devs/tests/20220718/\u001b[39m\u001b[39m'\u001b[39m\n\u001b[0;32m----> <a href='vscode-notebook-cell:/Users/backeb/Documents/REPOS/use-case-hisea/notebooks/workflow.ipynb#ch0000009?line=3'>4</a>\u001b[0m cmemsds \u001b[39m=\u001b[39m xr\u001b[39m.\u001b[39;49mopen_dataset(dname\u001b[39m+\u001b[39;49m\u001b[39m'\u001b[39;49m\u001b[39mcmems_thetao_bottomT_so_zos_uo_vo.nc\u001b[39;49m\u001b[39m'\u001b[39;49m)\n",
      "File \u001b[0;32m~/opt/miniconda3/lib/python3.9/site-packages/xarray/backends/api.py:495\u001b[0m, in \u001b[0;36mopen_dataset\u001b[0;34m(filename_or_obj, engine, chunks, cache, decode_cf, mask_and_scale, decode_times, decode_timedelta, use_cftime, concat_characters, decode_coords, drop_variables, backend_kwargs, *args, **kwargs)\u001b[0m\n\u001b[1;32m    483\u001b[0m decoders \u001b[39m=\u001b[39m _resolve_decoders_kwargs(\n\u001b[1;32m    484\u001b[0m     decode_cf,\n\u001b[1;32m    485\u001b[0m     open_backend_dataset_parameters\u001b[39m=\u001b[39mbackend\u001b[39m.\u001b[39mopen_dataset_parameters,\n\u001b[0;32m   (...)\u001b[0m\n\u001b[1;32m    491\u001b[0m     decode_coords\u001b[39m=\u001b[39mdecode_coords,\n\u001b[1;32m    492\u001b[0m )\n\u001b[1;32m    494\u001b[0m overwrite_encoded_chunks \u001b[39m=\u001b[39m kwargs\u001b[39m.\u001b[39mpop(\u001b[39m\"\u001b[39m\u001b[39moverwrite_encoded_chunks\u001b[39m\u001b[39m\"\u001b[39m, \u001b[39mNone\u001b[39;00m)\n\u001b[0;32m--> 495\u001b[0m backend_ds \u001b[39m=\u001b[39m backend\u001b[39m.\u001b[39;49mopen_dataset(\n\u001b[1;32m    496\u001b[0m     filename_or_obj,\n\u001b[1;32m    497\u001b[0m     drop_variables\u001b[39m=\u001b[39;49mdrop_variables,\n\u001b[1;32m    498\u001b[0m     \u001b[39m*\u001b[39;49m\u001b[39m*\u001b[39;49mdecoders,\n\u001b[1;32m    499\u001b[0m     \u001b[39m*\u001b[39;49m\u001b[39m*\u001b[39;49mkwargs,\n\u001b[1;32m    500\u001b[0m )\n\u001b[1;32m    501\u001b[0m ds \u001b[39m=\u001b[39m _dataset_from_backend_dataset(\n\u001b[1;32m    502\u001b[0m     backend_ds,\n\u001b[1;32m    503\u001b[0m     filename_or_obj,\n\u001b[0;32m   (...)\u001b[0m\n\u001b[1;32m    510\u001b[0m     \u001b[39m*\u001b[39m\u001b[39m*\u001b[39mkwargs,\n\u001b[1;32m    511\u001b[0m )\n\u001b[1;32m    512\u001b[0m \u001b[39mreturn\u001b[39;00m ds\n",
      "File \u001b[0;32m~/opt/miniconda3/lib/python3.9/site-packages/xarray/backends/h5netcdf_.py:374\u001b[0m, in \u001b[0;36mH5netcdfBackendEntrypoint.open_dataset\u001b[0;34m(self, filename_or_obj, mask_and_scale, decode_times, concat_characters, decode_coords, drop_variables, use_cftime, decode_timedelta, format, group, lock, invalid_netcdf, phony_dims, decode_vlen_strings)\u001b[0m\n\u001b[1;32m    354\u001b[0m \u001b[39mdef\u001b[39;00m \u001b[39mopen_dataset\u001b[39m(\n\u001b[1;32m    355\u001b[0m     \u001b[39mself\u001b[39m,\n\u001b[1;32m    356\u001b[0m     filename_or_obj,\n\u001b[0;32m   (...)\u001b[0m\n\u001b[1;32m    370\u001b[0m     decode_vlen_strings\u001b[39m=\u001b[39m\u001b[39mTrue\u001b[39;00m,\n\u001b[1;32m    371\u001b[0m ):\n\u001b[1;32m    373\u001b[0m     filename_or_obj \u001b[39m=\u001b[39m _normalize_path(filename_or_obj)\n\u001b[0;32m--> 374\u001b[0m     store \u001b[39m=\u001b[39m H5NetCDFStore\u001b[39m.\u001b[39;49mopen(\n\u001b[1;32m    375\u001b[0m         filename_or_obj,\n\u001b[1;32m    376\u001b[0m         \u001b[39mformat\u001b[39;49m\u001b[39m=\u001b[39;49m\u001b[39mformat\u001b[39;49m,\n\u001b[1;32m    377\u001b[0m         group\u001b[39m=\u001b[39;49mgroup,\n\u001b[1;32m    378\u001b[0m         lock\u001b[39m=\u001b[39;49mlock,\n\u001b[1;32m    379\u001b[0m         invalid_netcdf\u001b[39m=\u001b[39;49minvalid_netcdf,\n\u001b[1;32m    380\u001b[0m         phony_dims\u001b[39m=\u001b[39;49mphony_dims,\n\u001b[1;32m    381\u001b[0m         decode_vlen_strings\u001b[39m=\u001b[39;49mdecode_vlen_strings,\n\u001b[1;32m    382\u001b[0m     )\n\u001b[1;32m    384\u001b[0m     store_entrypoint \u001b[39m=\u001b[39m StoreBackendEntrypoint()\n\u001b[1;32m    386\u001b[0m     ds \u001b[39m=\u001b[39m store_entrypoint\u001b[39m.\u001b[39mopen_dataset(\n\u001b[1;32m    387\u001b[0m         store,\n\u001b[1;32m    388\u001b[0m         mask_and_scale\u001b[39m=\u001b[39mmask_and_scale,\n\u001b[0;32m   (...)\u001b[0m\n\u001b[1;32m    394\u001b[0m         decode_timedelta\u001b[39m=\u001b[39mdecode_timedelta,\n\u001b[1;32m    395\u001b[0m     )\n",
      "File \u001b[0;32m~/opt/miniconda3/lib/python3.9/site-packages/xarray/backends/h5netcdf_.py:178\u001b[0m, in \u001b[0;36mH5NetCDFStore.open\u001b[0;34m(cls, filename, mode, format, group, lock, autoclose, invalid_netcdf, phony_dims, decode_vlen_strings)\u001b[0m\n\u001b[1;32m    175\u001b[0m         lock \u001b[39m=\u001b[39m combine_locks([HDF5_LOCK, get_write_lock(filename)])\n\u001b[1;32m    177\u001b[0m manager \u001b[39m=\u001b[39m CachingFileManager(h5netcdf\u001b[39m.\u001b[39mFile, filename, mode\u001b[39m=\u001b[39mmode, kwargs\u001b[39m=\u001b[39mkwargs)\n\u001b[0;32m--> 178\u001b[0m \u001b[39mreturn\u001b[39;00m \u001b[39mcls\u001b[39;49m(manager, group\u001b[39m=\u001b[39;49mgroup, mode\u001b[39m=\u001b[39;49mmode, lock\u001b[39m=\u001b[39;49mlock, autoclose\u001b[39m=\u001b[39;49mautoclose)\n",
      "File \u001b[0;32m~/opt/miniconda3/lib/python3.9/site-packages/xarray/backends/h5netcdf_.py:123\u001b[0m, in \u001b[0;36mH5NetCDFStore.__init__\u001b[0;34m(self, manager, group, mode, lock, autoclose)\u001b[0m\n\u001b[1;32m    120\u001b[0m \u001b[39mself\u001b[39m\u001b[39m.\u001b[39mformat \u001b[39m=\u001b[39m \u001b[39mNone\u001b[39;00m\n\u001b[1;32m    121\u001b[0m \u001b[39m# todo: utilizing find_root_and_group seems a bit clunky\u001b[39;00m\n\u001b[1;32m    122\u001b[0m \u001b[39m#  making filename available on h5netcdf.Group seems better\u001b[39;00m\n\u001b[0;32m--> 123\u001b[0m \u001b[39mself\u001b[39m\u001b[39m.\u001b[39m_filename \u001b[39m=\u001b[39m find_root_and_group(\u001b[39mself\u001b[39;49m\u001b[39m.\u001b[39;49mds)[\u001b[39m0\u001b[39m]\u001b[39m.\u001b[39mfilename\n\u001b[1;32m    124\u001b[0m \u001b[39mself\u001b[39m\u001b[39m.\u001b[39mis_remote \u001b[39m=\u001b[39m is_remote_uri(\u001b[39mself\u001b[39m\u001b[39m.\u001b[39m_filename)\n\u001b[1;32m    125\u001b[0m \u001b[39mself\u001b[39m\u001b[39m.\u001b[39mlock \u001b[39m=\u001b[39m ensure_lock(lock)\n",
      "File \u001b[0;32m~/opt/miniconda3/lib/python3.9/site-packages/xarray/backends/h5netcdf_.py:189\u001b[0m, in \u001b[0;36mH5NetCDFStore.ds\u001b[0;34m(self)\u001b[0m\n\u001b[1;32m    187\u001b[0m \u001b[39m@property\u001b[39m\n\u001b[1;32m    188\u001b[0m \u001b[39mdef\u001b[39;00m \u001b[39mds\u001b[39m(\u001b[39mself\u001b[39m):\n\u001b[0;32m--> 189\u001b[0m     \u001b[39mreturn\u001b[39;00m \u001b[39mself\u001b[39;49m\u001b[39m.\u001b[39;49m_acquire()\n",
      "File \u001b[0;32m~/opt/miniconda3/lib/python3.9/site-packages/xarray/backends/h5netcdf_.py:181\u001b[0m, in \u001b[0;36mH5NetCDFStore._acquire\u001b[0;34m(self, needs_lock)\u001b[0m\n\u001b[1;32m    180\u001b[0m \u001b[39mdef\u001b[39;00m \u001b[39m_acquire\u001b[39m(\u001b[39mself\u001b[39m, needs_lock\u001b[39m=\u001b[39m\u001b[39mTrue\u001b[39;00m):\n\u001b[0;32m--> 181\u001b[0m     \u001b[39mwith\u001b[39;00m \u001b[39mself\u001b[39m\u001b[39m.\u001b[39m_manager\u001b[39m.\u001b[39macquire_context(needs_lock) \u001b[39mas\u001b[39;00m root:\n\u001b[1;32m    182\u001b[0m         ds \u001b[39m=\u001b[39m _nc4_require_group(\n\u001b[1;32m    183\u001b[0m             root, \u001b[39mself\u001b[39m\u001b[39m.\u001b[39m_group, \u001b[39mself\u001b[39m\u001b[39m.\u001b[39m_mode, create_group\u001b[39m=\u001b[39m_h5netcdf_create_group\n\u001b[1;32m    184\u001b[0m         )\n\u001b[1;32m    185\u001b[0m     \u001b[39mreturn\u001b[39;00m ds\n",
      "File \u001b[0;32m~/opt/miniconda3/lib/python3.9/contextlib.py:119\u001b[0m, in \u001b[0;36m_GeneratorContextManager.__enter__\u001b[0;34m(self)\u001b[0m\n\u001b[1;32m    117\u001b[0m \u001b[39mdel\u001b[39;00m \u001b[39mself\u001b[39m\u001b[39m.\u001b[39margs, \u001b[39mself\u001b[39m\u001b[39m.\u001b[39mkwds, \u001b[39mself\u001b[39m\u001b[39m.\u001b[39mfunc\n\u001b[1;32m    118\u001b[0m \u001b[39mtry\u001b[39;00m:\n\u001b[0;32m--> 119\u001b[0m     \u001b[39mreturn\u001b[39;00m \u001b[39mnext\u001b[39;49m(\u001b[39mself\u001b[39;49m\u001b[39m.\u001b[39;49mgen)\n\u001b[1;32m    120\u001b[0m \u001b[39mexcept\u001b[39;00m \u001b[39mStopIteration\u001b[39;00m:\n\u001b[1;32m    121\u001b[0m     \u001b[39mraise\u001b[39;00m \u001b[39mRuntimeError\u001b[39;00m(\u001b[39m\"\u001b[39m\u001b[39mgenerator didn\u001b[39m\u001b[39m'\u001b[39m\u001b[39mt yield\u001b[39m\u001b[39m\"\u001b[39m) \u001b[39mfrom\u001b[39;00m \u001b[39mNone\u001b[39m\n",
      "File \u001b[0;32m~/opt/miniconda3/lib/python3.9/site-packages/xarray/backends/file_manager.py:187\u001b[0m, in \u001b[0;36mCachingFileManager.acquire_context\u001b[0;34m(self, needs_lock)\u001b[0m\n\u001b[1;32m    184\u001b[0m \u001b[39m@contextlib\u001b[39m\u001b[39m.\u001b[39mcontextmanager\n\u001b[1;32m    185\u001b[0m \u001b[39mdef\u001b[39;00m \u001b[39macquire_context\u001b[39m(\u001b[39mself\u001b[39m, needs_lock\u001b[39m=\u001b[39m\u001b[39mTrue\u001b[39;00m):\n\u001b[1;32m    186\u001b[0m     \u001b[39m\"\"\"Context manager for acquiring a file.\"\"\"\u001b[39;00m\n\u001b[0;32m--> 187\u001b[0m     file, cached \u001b[39m=\u001b[39m \u001b[39mself\u001b[39;49m\u001b[39m.\u001b[39;49m_acquire_with_cache_info(needs_lock)\n\u001b[1;32m    188\u001b[0m     \u001b[39mtry\u001b[39;00m:\n\u001b[1;32m    189\u001b[0m         \u001b[39myield\u001b[39;00m file\n",
      "File \u001b[0;32m~/opt/miniconda3/lib/python3.9/site-packages/xarray/backends/file_manager.py:205\u001b[0m, in \u001b[0;36mCachingFileManager._acquire_with_cache_info\u001b[0;34m(self, needs_lock)\u001b[0m\n\u001b[1;32m    203\u001b[0m     kwargs \u001b[39m=\u001b[39m kwargs\u001b[39m.\u001b[39mcopy()\n\u001b[1;32m    204\u001b[0m     kwargs[\u001b[39m\"\u001b[39m\u001b[39mmode\u001b[39m\u001b[39m\"\u001b[39m] \u001b[39m=\u001b[39m \u001b[39mself\u001b[39m\u001b[39m.\u001b[39m_mode\n\u001b[0;32m--> 205\u001b[0m file \u001b[39m=\u001b[39m \u001b[39mself\u001b[39;49m\u001b[39m.\u001b[39;49m_opener(\u001b[39m*\u001b[39;49m\u001b[39mself\u001b[39;49m\u001b[39m.\u001b[39;49m_args, \u001b[39m*\u001b[39;49m\u001b[39m*\u001b[39;49mkwargs)\n\u001b[1;32m    206\u001b[0m \u001b[39mif\u001b[39;00m \u001b[39mself\u001b[39m\u001b[39m.\u001b[39m_mode \u001b[39m==\u001b[39m \u001b[39m\"\u001b[39m\u001b[39mw\u001b[39m\u001b[39m\"\u001b[39m:\n\u001b[1;32m    207\u001b[0m     \u001b[39m# ensure file doesn't get overriden when opened again\u001b[39;00m\n\u001b[1;32m    208\u001b[0m     \u001b[39mself\u001b[39m\u001b[39m.\u001b[39m_mode \u001b[39m=\u001b[39m \u001b[39m\"\u001b[39m\u001b[39ma\u001b[39m\u001b[39m\"\u001b[39m\n",
      "File \u001b[0;32m~/opt/miniconda3/lib/python3.9/site-packages/h5netcdf/core.py:968\u001b[0m, in \u001b[0;36mFile.__init__\u001b[0;34m(self, path, mode, invalid_netcdf, phony_dims, **kwargs)\u001b[0m\n\u001b[1;32m    966\u001b[0m         \u001b[39mself\u001b[39m\u001b[39m.\u001b[39m_preexisting_file \u001b[39m=\u001b[39m os\u001b[39m.\u001b[39mpath\u001b[39m.\u001b[39mexists(path) \u001b[39mand\u001b[39;00m mode \u001b[39m!=\u001b[39m \u001b[39m\"\u001b[39m\u001b[39mw\u001b[39m\u001b[39m\"\u001b[39m\n\u001b[1;32m    967\u001b[0m         \u001b[39mself\u001b[39m\u001b[39m.\u001b[39m_h5py \u001b[39m=\u001b[39m h5py\n\u001b[0;32m--> 968\u001b[0m         \u001b[39mself\u001b[39m\u001b[39m.\u001b[39m_h5file \u001b[39m=\u001b[39m \u001b[39mself\u001b[39;49m\u001b[39m.\u001b[39;49m_h5py\u001b[39m.\u001b[39;49mFile(\n\u001b[1;32m    969\u001b[0m             path, mode, track_order\u001b[39m=\u001b[39;49mtrack_order, \u001b[39m*\u001b[39;49m\u001b[39m*\u001b[39;49mkwargs\n\u001b[1;32m    970\u001b[0m         )\n\u001b[1;32m    971\u001b[0m \u001b[39melse\u001b[39;00m:  \u001b[39m# file-like object\u001b[39;00m\n\u001b[1;32m    972\u001b[0m     \u001b[39mif\u001b[39;00m version\u001b[39m.\u001b[39mparse(h5py\u001b[39m.\u001b[39m__version__) \u001b[39m<\u001b[39m version\u001b[39m.\u001b[39mparse(\u001b[39m\"\u001b[39m\u001b[39m2.9.0\u001b[39m\u001b[39m\"\u001b[39m):\n",
      "File \u001b[0;32m~/opt/miniconda3/lib/python3.9/site-packages/h5py/_hl/files.py:507\u001b[0m, in \u001b[0;36mFile.__init__\u001b[0;34m(self, name, mode, driver, libver, userblock_size, swmr, rdcc_nslots, rdcc_nbytes, rdcc_w0, track_order, fs_strategy, fs_persist, fs_threshold, fs_page_size, page_buf_size, min_meta_keep, min_raw_keep, locking, **kwds)\u001b[0m\n\u001b[1;32m    502\u001b[0m     fapl \u001b[39m=\u001b[39m make_fapl(driver, libver, rdcc_nslots, rdcc_nbytes, rdcc_w0,\n\u001b[1;32m    503\u001b[0m                      locking, page_buf_size, min_meta_keep, min_raw_keep, \u001b[39m*\u001b[39m\u001b[39m*\u001b[39mkwds)\n\u001b[1;32m    504\u001b[0m     fcpl \u001b[39m=\u001b[39m make_fcpl(track_order\u001b[39m=\u001b[39mtrack_order, fs_strategy\u001b[39m=\u001b[39mfs_strategy,\n\u001b[1;32m    505\u001b[0m                      fs_persist\u001b[39m=\u001b[39mfs_persist, fs_threshold\u001b[39m=\u001b[39mfs_threshold,\n\u001b[1;32m    506\u001b[0m                      fs_page_size\u001b[39m=\u001b[39mfs_page_size)\n\u001b[0;32m--> 507\u001b[0m     fid \u001b[39m=\u001b[39m make_fid(name, mode, userblock_size, fapl, fcpl, swmr\u001b[39m=\u001b[39;49mswmr)\n\u001b[1;32m    509\u001b[0m \u001b[39mif\u001b[39;00m \u001b[39misinstance\u001b[39m(libver, \u001b[39mtuple\u001b[39m):\n\u001b[1;32m    510\u001b[0m     \u001b[39mself\u001b[39m\u001b[39m.\u001b[39m_libver \u001b[39m=\u001b[39m libver\n",
      "File \u001b[0;32m~/opt/miniconda3/lib/python3.9/site-packages/h5py/_hl/files.py:220\u001b[0m, in \u001b[0;36mmake_fid\u001b[0;34m(name, mode, userblock_size, fapl, fcpl, swmr)\u001b[0m\n\u001b[1;32m    218\u001b[0m     \u001b[39mif\u001b[39;00m swmr \u001b[39mand\u001b[39;00m swmr_support:\n\u001b[1;32m    219\u001b[0m         flags \u001b[39m|\u001b[39m\u001b[39m=\u001b[39m h5f\u001b[39m.\u001b[39mACC_SWMR_READ\n\u001b[0;32m--> 220\u001b[0m     fid \u001b[39m=\u001b[39m h5f\u001b[39m.\u001b[39;49mopen(name, flags, fapl\u001b[39m=\u001b[39;49mfapl)\n\u001b[1;32m    221\u001b[0m \u001b[39melif\u001b[39;00m mode \u001b[39m==\u001b[39m \u001b[39m'\u001b[39m\u001b[39mr+\u001b[39m\u001b[39m'\u001b[39m:\n\u001b[1;32m    222\u001b[0m     fid \u001b[39m=\u001b[39m h5f\u001b[39m.\u001b[39mopen(name, h5f\u001b[39m.\u001b[39mACC_RDWR, fapl\u001b[39m=\u001b[39mfapl)\n",
      "File \u001b[0;32mh5py/_objects.pyx:54\u001b[0m, in \u001b[0;36mh5py._objects.with_phil.wrapper\u001b[0;34m()\u001b[0m\n",
      "File \u001b[0;32mh5py/_objects.pyx:55\u001b[0m, in \u001b[0;36mh5py._objects.with_phil.wrapper\u001b[0;34m()\u001b[0m\n",
      "File \u001b[0;32mh5py/h5f.pyx:106\u001b[0m, in \u001b[0;36mh5py.h5f.open\u001b[0;34m()\u001b[0m\n",
      "\u001b[0;31mFileNotFoundError\u001b[0m: [Errno 2] Unable to open file (unable to open file: name = '/Users/backeb/OneDrive\\ -\\ Stichting\\ Deltares/Desktop/Project-C-SCALE/0-HiSea_devs/tests/20220718/cmems_thetao_bottomT_so_zos_uo_vo.nc', errno = 2, error message = 'No such file or directory', flags = 0, o_flags = 0)"
     ]
    }
   ],
   "source": [
    "import xarray as xr\n",
    "dname = '/Users/backeb/OneDrive - Stichting Deltares/Desktop/Project-C-SCALE/0-HiSea_devs/tests/20220718/'\n",
    "\n",
    "cmemsds = xr.open_dataset(dname+'cmems_thetao_bottomT_so_zos_uo_vo.nc')"
   ]
  },
  {
   "cell_type": "code",
   "execution_count": 2,
   "metadata": {},
   "outputs": [
    {
     "name": "stdout",
     "output_type": "stream",
     "text": [
      "Variable   Type      Data/Info\n",
      "------------------------------\n",
      "os         module    <module 'os' from '/Users<...>da3/lib/python3.9/os.py'>\n",
      "sys        module    <module 'sys' (built-in)>\n",
      "xr         module    <module 'xarray' from '/U<...>ages/xarray/__init__.py'>\n"
     ]
    }
   ],
   "source": [
    "whos"
   ]
  },
  {
   "cell_type": "markdown",
   "metadata": {},
   "source": [
    "## preprocessing with coastserv\n",
    "\n",
    "Notes\n",
    "* to build the preprocessing container I did the following\n",
    "    * in `use-case-hisea/scripts/preprocessing/tide_physical_chemical/` do:\\\n",
    "    `docker build --tag preprocessing .`\n",
    "* to run the preprocessing in the docker container for `boundary.py` do:\\\n",
    "`docker run -v ~/OneDrive\\ -\\ Stichting\\ Deltares/Desktop/Project-C-SCALE/0-HiSea_devs/tests/20220718:/data/input -v /Users/backeb/Documents/REPOS/use-case-hisea/fm_model:/data/model -v ~/OneDrive\\ -\\ Stichting\\ Deltares/Desktop/Project-C-SCALE/0-HiSea_devs/tests/20220718/preprocess_output:/data/output preprocessing boundary.py --interp true --simultaneous true --steric true --input /data/input --model /data/model --output /data/output`\\\n",
    "the above has the following input parameters:\n",
    "    * the directory from which to get the downloaded CMEMS data:\\\n",
    "    `~/OneDrive\\ -\\ Stichting\\ Deltares/Desktop/Project-C-SCALE/0-HiSea_devs/tests/20220718`\n",
    "    * the directory where all the model files are:\\\n",
    "    `/Users/backeb/Documents/REPOS/use-case-hisea/fm_model`\n",
    "    * the directory where to dump the data after the preprocessing step:\\\n",
    "   `~/OneDrive\\ -\\ Stichting\\ Deltares/Desktop/Project-C-SCALE/0-HiSea_devs/tests/20220718/preprocess_output`\\"
   ]
  },
  {
   "cell_type": "code",
   "execution_count": 14,
   "metadata": {},
   "outputs": [
    {
     "name": "stdout",
     "output_type": "stream",
     "text": [
      "ERROR conda.cli.main_run:execute(41): `conda run python boundary.py --interp true --simultaneous true --steric true --input /data/input --model /data/model --output /data/output` failed. (See above for error)\n",
      " \n",
      "Model reference date is: 2015-01-01 00:00:00\n",
      " \n",
      "running with options interp = True, simultaneous = True, steric = true\n",
      "files for phyc: 0\n",
      "files for phyc: 0\n",
      "files for phyc: 0\n",
      "files for phyc: 0\n",
      "files for o2: 0\n",
      "files for no3: 0\n",
      "files for po4: 0\n",
      "files for so: 1\n",
      "files for thetao: 1\n",
      "files for uo: 1\n",
      "files for zos: 1\n",
      "files for phyc: 0\n",
      "files for phyc: 0\n",
      "files for si: 0\n",
      "WARNING: no data files available for some variables, will try to continue\n",
      "suspected missing subs:\n",
      "Opal\n",
      "PON1\n",
      "POP1\n",
      "POC1\n",
      "OXY\n",
      "NO3\n",
      "PO4\n",
      "Green\n",
      "Diat\n",
      "Si\n",
      "subs:\n",
      "['Opal', 'PON1', 'POP1', 'POC1', 'OXY', 'NO3', 'PO4', 'salinity', 'temperature', 'uxuy', 'steric', 'Green', 'Diat', 'Si']\n",
      "# of files available:\n",
      "[0 0 0 0 0 0 0 1 1 1 1 0 0 0]\n",
      "['salinity', 'temperature', 'uxuy', 'steric'] newsublist\n",
      "WARNING: SOME VARIABLES COVER DIFFERENT TIME SPANS THAN OTHERS, RESULTING BOUNDARIES WILL NOT BE VALID. SEE INCONGRUENCY BETWEEN NUMBER OF FILES FOUND IN ARRAY ABOVE\n",
      "substance: salinity\n",
      "reading data...\n",
      "['so'] printing the csub value\n",
      "reading data file cmems_thetao_bottomT_so_zos_uo_vo.nc\n",
      "so multiple interpolation took 0 seconds on time chunk 1/1\n",
      "finished reading data\n",
      "writing file...\n",
      "finished writing salinity boundary for position 18/18 in boundary east2\n",
      "substance: temperature\n",
      "reading data...\n",
      "['thetao'] printing the csub value\n",
      "reading data file cmems_thetao_bottomT_so_zos_uo_vo.nc\n",
      "thetao multiple interpolation took 0 seconds on time chunk 1/1\n",
      "finished reading data\n",
      "writing file...\n",
      "finished writing temperature boundary for position 18/18 in boundary east2\n",
      "substance: uxuy\n",
      "reading data...\n",
      "['uo', 'vo'] printing the csub value\n",
      "reading data file cmems_thetao_bottomT_so_zos_uo_vo.nc\n",
      "uo multiple interpolation took 0 seconds on time chunk 1/1\n",
      "reading data file cmems_thetao_bottomT_so_zos_uo_vo.nc\n",
      "vo multiple interpolation took 0 seconds on time chunk 1/1\n",
      "finished reading data\n",
      "writing file...\n",
      "finished writing uxuy boundary for position 18/18 in boundary east2\n",
      "substance: steric\n",
      "reading data...\n",
      "['zos'] printing the csub value\n",
      "reading data file cmems_thetao_bottomT_so_zos_uo_vo.nc\n",
      "\n",
      "Traceback (most recent call last):\n",
      "  File \"/app/boundary.py\", line 83, in <module>\n",
      "    boundary()\n",
      "  File \"/opt/conda/envs/coastserv/lib/python3.10/site-packages/click/core.py\", line 1130, in __call__\n",
      "    return self.main(*args, **kwargs)\n",
      "  File \"/opt/conda/envs/coastserv/lib/python3.10/site-packages/click/core.py\", line 1055, in main\n",
      "    rv = self.invoke(ctx)\n",
      "  File \"/opt/conda/envs/coastserv/lib/python3.10/site-packages/click/core.py\", line 1404, in invoke\n",
      "    return ctx.invoke(self.callback, **ctx.params)\n",
      "  File \"/opt/conda/envs/coastserv/lib/python3.10/site-packages/click/core.py\", line 760, in invoke\n",
      "    return __callback(*args, **kwargs)\n",
      "  File \"/app/boundary.py\", line 78, in boundary\n",
      "    test.build_boundary(interp=interp, simultaneous=simultaneous, steric=steric)\n",
      "  File \"/app/coastserv/models/boundary.py\", line 54, in build_boundary\n",
      "    self.make_boundary()\n",
      "  File \"/app/coastserv/models/boundary.py\", line 79, in make_boundary\n",
      "    self.process_bc()\n",
      "  File \"/app/coastserv/models/boundary.py\", line 223, in process_bc\n",
      "    self.write_bc_file(sub, bnd)\n",
      "  File \"/app/coastserv/models/boundary.py\", line 250, in write_bc_file\n",
      "    times, depths, data, fill = self.read_nc_data(data_list, bnd, csub)\n",
      "  File \"/app/coastserv/models/boundary.py\", line 336, in read_nc_data\n",
      "    arr = self.get_interp_array_multiple(ds, part_sub, bnd, times, depths)\n",
      "  File \"/app/coastserv/models/boundary.py\", line 573, in get_interp_array_multiple\n",
      "    arr_t = ds.variables[sub][:, :, :, :]  \n",
      "  File \"src/netCDF4/_netCDF4.pyx\", line 4715, in netCDF4._netCDF4.Variable.__getitem__\n",
      "  File \"/opt/conda/envs/coastserv/lib/python3.10/site-packages/netCDF4/utils.py\", line 338, in _StartCountStride\n",
      "    raise ValueError(\"slicing expression exceeds the number of dimensions of the variable\")\n",
      "ValueError: slicing expression exceeds the number of dimensions of the variable\n",
      "\n"
     ]
    }
   ],
   "source": [
    "!docker run -v ~/OneDrive\\ -\\ Stichting\\ Deltares/Desktop/Project-C-SCALE/0-HiSea_devs/tests/20220718:/data/input -v /Users/backeb/Documents/REPOS/use-case-hisea/fm_model:/data/model -v ~/OneDrive\\ -\\ Stichting\\ Deltares/Desktop/Project-C-SCALE/0-HiSea_devs/tests/20220718/preprocess_output:/data/output preprocessing boundary.py --interp true --simultaneous true --steric true --input /data/input --model /data/model --output /data/output"
   ]
  },
  {
   "cell_type": "code",
   "execution_count": null,
   "metadata": {},
   "outputs": [],
   "source": []
  }
 ],
 "metadata": {
  "kernelspec": {
   "display_name": "Python 3.9.12 ('base')",
   "language": "python",
   "name": "python3"
  },
  "language_info": {
   "codemirror_mode": {
    "name": "ipython",
    "version": 3
   },
   "file_extension": ".py",
   "mimetype": "text/x-python",
   "name": "python",
   "nbconvert_exporter": "python",
   "pygments_lexer": "ipython3",
   "version": "3.9.12"
  },
  "orig_nbformat": 4,
  "vscode": {
   "interpreter": {
    "hash": "5702069ab324e298b25bf22a3256178821a69813a1d201341c1bedfb7e6fbf9a"
   }
  }
 },
 "nbformat": 4,
 "nbformat_minor": 2
}
