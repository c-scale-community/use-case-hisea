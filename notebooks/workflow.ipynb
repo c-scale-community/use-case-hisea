{
 "cells": [
  {
   "cell_type": "markdown",
   "metadata": {},
   "source": [
    "# hisea use case workflow notebook"
   ]
  },
  {
   "cell_type": "markdown",
   "metadata": {},
   "source": [
    "This notebook provides an example of running the hisea workflow."
   ]
  },
  {
   "cell_type": "markdown",
   "metadata": {},
   "source": [
    "## prerequisites\n",
    "1. build the docker containers to download the data following instructions on <https://github.com/c-scale-community/use-case-hisea/tree/main/scripts/download>\n",
    "2. build the docker container to preprocess the data following instructions on ... TODO"
   ]
  },
  {
   "cell_type": "markdown",
   "metadata": {},
   "source": [
    "## download ERA5 data\n",
    "Notes:\n",
    "* path to my .cdsapirc file\\\n",
    "`/Users/backeb/.cdsapirc`\n",
    "* path to where I am downloading the data\\\n",
    "`~/OneDrive\\ -\\ Stichting\\ Deltares/Desktop/Project-C-SCALE/0-HiSea_devs/tests/20220718`\n",
    "\n",
    "* Other input parameters:\\\n",
    "`--longitude_min 22.5`\\\n",
    "`--longitude_max 24.5`\\\n",
    "`--latitude_min 36.5`\\\n",
    "`--latitude_max 38.5`\\\n",
    "`--date_min '2022-04-01'`\\\n",
    "`--date_max '2022-04-05'`"
   ]
  },
  {
   "cell_type": "code",
   "execution_count": null,
   "metadata": {},
   "outputs": [],
   "source": [
    "# TODO\n",
    "\"\"\"\n",
    "add e.g. a input.in file where a user can define a.o.\n",
    "- cdsapirclocation\n",
    "- datadownloadpath\n",
    "- longitude_min\n",
    "- longitude_max\n",
    "- latitude_min\n",
    "- latitude_max\n",
    "- date_min\n",
    "- date_max\n",
    "- modeldirectory\n",
    "- preprocesseddatapath\n",
    "parse this info to the docker run calls below\n",
    "follow https://www.baeldung.com/linux/read-specific-line-from-file and https://stackoverflow.com/questions/4749905/how-can-i-read-a-file-and-redirect-it-to-a-variable\n",
    "\"\"\""
   ]
  },
  {
   "cell_type": "code",
   "execution_count": null,
   "metadata": {},
   "outputs": [],
   "source": [
    "!docker run -v /Users/backeb/.cdsapirc:/root/.cdsapirc -v ~/OneDrive\\ -\\ Stichting\\ Deltares/Desktop/Project-C-SCALE/0-HiSea_devs/tests/20220718:/data download-input python download_era5.py --longitude_min 22.5 --longitude_max 24.5 --latitude_min 36.5 --latitude_max 38.5 --date_min '2022-04-01' --date_max '2022-04-05'"
   ]
  },
  {
   "cell_type": "markdown",
   "metadata": {},
   "source": [
    "## download CMEMS data\n",
    "Notes:\n",
    "* path to where I am downloading the data\\\n",
    "`~/OneDrive\\ -\\ Stichting\\ Deltares/Desktop/Project-C-SCALE/0-HiSea_devs/tests/20220718`\n",
    "* Other input parameters:\\\n",
    "`--username bbackeberg`\\\n",
    "`--password iaTmwJ7D`\\\n",
    "`--longitude_min 22.5`\\\n",
    "`--longitude_max 24.5`\\\n",
    "`--latitude_min 36.5`\\\n",
    "`--latitude_max 38.5`\\\n",
    "`--date_min '2022-04-01'`\\\n",
    "`--date_max '2022-04-05'`"
   ]
  },
  {
   "cell_type": "code",
   "execution_count": null,
   "metadata": {},
   "outputs": [],
   "source": [
    "!docker run -v ~/OneDrive\\ -\\ Stichting\\ Deltares/Desktop/Project-C-SCALE/0-HiSea_devs/tests/20220718:/data download-input python download_cmems_physics.py --username bbackeberg --password iaTmwJ7D --longitude_min 22.5 --longitude_max 24.5 --latitude_min 36.5 --latitude_max 38.5 --date_min '2022-04-01' --date_max '2022-04-05'"
   ]
  },
  {
   "cell_type": "code",
   "execution_count": null,
   "metadata": {},
   "outputs": [],
   "source": [
    "!docker run -v ~/OneDrive\\ -\\ Stichting\\ Deltares/Desktop/Project-C-SCALE/0-HiSea_devs/tests/20220718:/data download-input python download_cmems_biogeochemistry.py --username bbackeberg --password iaTmwJ7D --longitude_min 22.5 --longitude_max 24.5 --latitude_min 36.5 --latitude_max 38.5 --date_min '2022-04-01' --date_max '2022-04-05'"
   ]
  },
  {
   "cell_type": "code",
   "execution_count": null,
   "metadata": {},
   "outputs": [],
   "source": [
    "ls -lhtr ~/OneDrive\\ -\\ Stichting\\ Deltares/Desktop/Project-C-SCALE/0-HiSea_devs/tests/20220718"
   ]
  },
  {
   "cell_type": "markdown",
   "metadata": {},
   "source": [
    "## preprocessing with coastserv\n",
    "\n",
    "Notes\n",
    "* to build the preprocessing container I did the following\n",
    "    * in `use-case-hisea/scripts/preprocessing/tide_physical_chemical/` do:\\\n",
    "    `docker build --tag preprocessing .`\n",
    "* to run the preprocessing in the docker container for `boundary.py` do:\\\n",
    "`docker run -v ~/OneDrive\\ -\\ Stichting\\ Deltares/Desktop/Project-C-SCALE/0-HiSea_devs/tests/20220718:/data/input -v /Users/backeb/Documents/REPOS/use-case-hisea/fm_model:/data/model -v ~/OneDrive\\ -\\ Stichting\\ Deltares/Desktop/Project-C-SCALE/0-HiSea_devs/tests/20220718/preprocess_output:/data/output preprocessing boundary.py --interp true --simultaneous true --steric true --input /data/input --model /data/model --output /data/output`\\\n",
    "the above has the following input parameters:\n",
    "    * the directory from which to get the downloaded CMEMS data:\\\n",
    "    `~/OneDrive\\ -\\ Stichting\\ Deltares/Desktop/Project-C-SCALE/0-HiSea_devs/tests/20220718`\n",
    "    * the directory where all the model files are:\\\n",
    "    `/Users/backeb/Documents/REPOS/use-case-hisea/fm_model`\n",
    "    * the directory where to dump the data after the preprocessing step:\\\n",
    "   `~/OneDrive\\ -\\ Stichting\\ Deltares/Desktop/Project-C-SCALE/0-HiSea_devs/tests/20220718/preprocess_output`\\"
   ]
  },
  {
   "cell_type": "code",
   "execution_count": null,
   "metadata": {},
   "outputs": [],
   "source": [
    "!docker run -v ~/OneDrive\\ -\\ Stichting\\ Deltares/Desktop/Project-C-SCALE/0-HiSea_devs/tests/20220718:/data/input -v /Users/backeb/Documents/REPOS/use-case-hisea/fm_model:/data/model -v ~/OneDrive\\ -\\ Stichting\\ Deltares/Desktop/Project-C-SCALE/0-HiSea_devs/tests/20220718/preprocess_output:/data/output preprocessing boundary.py --interp true --simultaneous true --steric true --input /data/input --model /data/model --output /data/output"
   ]
  },
  {
   "cell_type": "markdown",
   "metadata": {},
   "source": [
    "## preprocess with hydrolib\n",
    "I need to create the following files:\n",
    "* salinity_east2.bc\n",
    "* salinity_south2.bc\n",
    "* steric_east2.bc\n",
    "* steric_south2.bc\n",
    "* temperature_east2.bc\n",
    "* temperature_south2.bc\n",
    "* tide_east2.bc\n",
    "* tide_south2.bc\n",
    "* uxuy_east2.bc\n",
    "\n",
    "and I have the following files:\n",
    "* DFMWAQ_east2_tmp.ext\n",
    "* DFMWAQ_south2_tmp.ext\n",
    "* boundary1_waq.ext\n",
    "* east2.ext\n",
    "* east2.pli\n",
    "* south2.ext\n",
    "* south2.pli\n",
    "* wind_heat_waq.ext"
   ]
  },
  {
   "cell_type": "markdown",
   "metadata": {},
   "source": [
    "## write .bc with hydrolib-core"
   ]
  },
  {
   "cell_type": "code",
   "execution_count": null,
   "metadata": {},
   "outputs": [],
   "source": [
    "import xarray as xr\n",
    "# xarray dependencies:\n",
    "#   conda install xarray\n",
    "#   conda install netcdf4\n",
    "#   conda install -c conda-forge h5netcdf\n",
    "#   conda install scipy\n",
    "from hydrolib.core.io.bc.models import ForcingModel, TimeSeries\n",
    "# to install hydrolib do \n",
    "#   `pip install hydrolib-core`\n",
    "#   `conda create -n hydrolib python=3.8 -c conda-forge` and switch to hydrolib env in vsc\n",
    "# additional dependency: `conda install -n hydrolib ipykernel --update-deps --force-reinstall`\n",
    "\n",
    "\n",
    "pname = '/Users/backeb/OneDrive - Stichting Deltares/Desktop/Project-C-SCALE/0-HiSea_devs/tests/20220718/'\n",
    "ds = xr.open_dataset(pname+'cmems_thetao_bottomT_so_zos_uo_vo.nc')\n",
    "\n",
    "import numpy\n",
    "numpy.shape(ds.zos.data)\n",
    "\n",
    "#model = ForcingModel()\n",
    "#steric = TimeSeries(ds.zos.data)\n",
    "\n",
    "\n"
   ]
  },
  {
   "cell_type": "code",
   "execution_count": null,
   "metadata": {},
   "outputs": [],
   "source": [
    "ds\n",
    "len(numpy.shape(ds.vo))"
   ]
  },
  {
   "cell_type": "code",
   "execution_count": null,
   "metadata": {},
   "outputs": [],
   "source": []
  }
 ],
 "metadata": {
  "kernelspec": {
   "display_name": "Python 3.8.13 ('hydrolib')",
   "language": "python",
   "name": "python3"
  },
  "language_info": {
   "codemirror_mode": {
    "name": "ipython",
    "version": 3
   },
   "file_extension": ".py",
   "mimetype": "text/x-python",
   "name": "python",
   "nbconvert_exporter": "python",
   "pygments_lexer": "ipython3",
   "version": "3.8.13"
  },
  "orig_nbformat": 4,
  "vscode": {
   "interpreter": {
    "hash": "ebf6a3cb10c3b323eabf3e759445cc79642e64524aa0a15b34bd3dc11fc1d5ab"
   }
  }
 },
 "nbformat": 4,
 "nbformat_minor": 2
}
