{
 "cells": [
  {
   "cell_type": "code",
   "execution_count": 24,
   "metadata": {},
   "outputs": [
    {
     "name": "stdout",
     "output_type": "stream",
     "text": [
      "j 0\n",
      "False\n",
      "True\n",
      "1\n"
     ]
    }
   ],
   "source": [
    "# tests to find solution for https://github.com/c-scale-community/use-case-hisea/issues/28\n",
    "\n",
    "from datetime import timedelta, datetime\n",
    "from pathlib import Path\n",
    "import subprocess\n",
    "import xarray as xr # note dependencies: dask, netCDF4\n",
    "\n",
    "vars = ('thetao', 'bottomT', 'so', 'zos', 'uo', 'vo')\n",
    "date_min = '2022-04-01'\n",
    "date_max = '2022-04-05'\n",
    "\n",
    "delta = datetime.strptime(date_max, '%Y-%m-%d') - datetime.strptime(date_min, '%Y-%m-%d')\n",
    "\n",
    "var = vars[0]\n",
    "i = 0\n",
    "day = datetime.strptime(date_min, '%Y-%m-%d').date() + timedelta(days=i)\n",
    "check_file = Path('/Users/backeb/Documents/data/tmp/cmems_'+str(var)+'_'+str(day)+'.nc')\n",
    "\n",
    "j=0\n",
    "while not check_file.is_file():\n",
    "    print('j '+str(i))\n",
    "    print(check_file.is_file())\n",
    "    open(check_file, 'a')\n",
    "    j+=1\n",
    "\n",
    "print(check_file.is_file())\n",
    "print(j)\n",
    "    "
   ]
  },
  {
   "cell_type": "code",
   "execution_count": null,
   "metadata": {},
   "outputs": [],
   "source": []
  }
 ],
 "metadata": {
  "kernelspec": {
   "display_name": "Python 3.9.12 ('base')",
   "language": "python",
   "name": "python3"
  },
  "language_info": {
   "codemirror_mode": {
    "name": "ipython",
    "version": 3
   },
   "file_extension": ".py",
   "mimetype": "text/x-python",
   "name": "python",
   "nbconvert_exporter": "python",
   "pygments_lexer": "ipython3",
   "version": "3.9.12"
  },
  "orig_nbformat": 4,
  "vscode": {
   "interpreter": {
    "hash": "5702069ab324e298b25bf22a3256178821a69813a1d201341c1bedfb7e6fbf9a"
   }
  }
 },
 "nbformat": 4,
 "nbformat_minor": 2
}
