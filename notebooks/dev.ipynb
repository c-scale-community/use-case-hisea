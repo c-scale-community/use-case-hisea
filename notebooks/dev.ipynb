{
 "cells": [
  {
   "cell_type": "code",
   "execution_count": null,
   "metadata": {},
   "outputs": [],
   "source": [
    "# tests to find solution for https://github.com/c-scale-community/use-case-hisea/issues/28\n",
    "\n",
    "from datetime import timedelta, datetime\n",
    "from pathlib import Path\n",
    "import subprocess\n",
    "import xarray as xr # note dependencies: dask, netCDF4\n",
    "\n",
    "vars = ('thetao', 'bottomT', 'so', 'zos', 'uo', 'vo')\n",
    "date_min = '2022-04-01'\n",
    "date_max = '2022-04-05'\n",
    "\n",
    "delta = datetime.strptime(date_max, '%Y-%m-%d') - datetime.strptime(date_min, '%Y-%m-%d')\n",
    "\n",
    "var = vars[0]\n",
    "i = 0\n",
    "day = datetime.strptime(date_min, '%Y-%m-%d').date() + timedelta(days=i)\n",
    "check_file = Path('/Users/backeb/Documents/data/tmp/cmems_'+str(var)+'_'+str(day)+'.nc')\n",
    "\n",
    "j=0\n",
    "while not check_file.is_file():\n",
    "    print('j '+str(i))\n",
    "    print(check_file.is_file())\n",
    "    open(check_file, 'a')\n",
    "    j+=1\n",
    "\n",
    "print(check_file.is_file())\n",
    "print(j)\n",
    "    "
   ]
  },
  {
   "cell_type": "code",
   "execution_count": null,
   "metadata": {},
   "outputs": [],
   "source": [
    "#### IGNORE THIS, I WAS BEING A RETARD #### \n",
    "# works fine with xr.open_mfdataset('/Users/backeb/Documents/data/tmp/*no3*.nc')\n",
    "# I was getting error in xr.open_mfdataset('/Users/backeb/Documents/data/tmp/*no3*.nc') BUT I WAS BEING AN IDIOT\n",
    "# ValueError: Could not find any dimension coordinates to use to order the datasets for concatenation\n",
    "# and using ds = xr.open_mfdataset('*no3*.nc', concat_dim='time', combine='nested') creates 25 time dimensions instead of the 5 expected\n",
    "\n",
    "from pathlib import Path\n",
    "import xarray as xr\n",
    "\n",
    "datasets = []\n",
    "#for path in Path('/Users/backeb/Documents/data/tmp/').iterdir():\n",
    "for path in sorted(Path('/Users/backeb/Documents/data/tmp/').rglob('*no3*.nc')):\n",
    "    print(path)\n",
    "    ds = xr.open_dataset(path)\n",
    "    datasets.append(ds)\n",
    "combined = xr.concat(datasets, dim='time')\n",
    "\n",
    "print(combined)"
   ]
  },
  {
   "cell_type": "code",
   "execution_count": 37,
   "metadata": {},
   "outputs": [
    {
     "name": "stdout",
     "output_type": "stream",
     "text": [
      "['2021', '2022']\n",
      "['01', '02', '03', '04', '05', '06', '07', '08', '09', '10', '11', '12']\n",
      "['01', '02', '03', '04', '05', '06', '07', '08', '09', '10', '11', '12', '13', '14', '15', '16', '17', '18', '19', '20', '21', '22', '23', '24', '25', '26', '27', '28', '29', '30', '31']\n"
     ]
    }
   ],
   "source": [
    "# for download_era5.py get an error when iterating over months\n",
    "# e.g. from 2021-07-01 to 2022-06-31 the monthstr is empty\n",
    "# this is because I'm trying to do `for i in range(7, 6, 1): ...`\n",
    "# tests to find a better way to iterate over a period\n",
    "# TODO think about extracting one netcdf per day and concat after using xarray.open_mfdataset, i.e. as in cmems download approach\n",
    "\n",
    "import pandas as pd\n",
    "from datetime import datetime, timedelta\n",
    "import numpy as np\n",
    "\n",
    "date_min = '2021-07-01'\n",
    "date_max = '2022-06-30'\n",
    "\n",
    "yearstr = []\n",
    "pdyears = pd.period_range(start=date_min, end=date_max, freq='Y')\n",
    "[yearstr.append(f'{year:0>4}') for year in pdyears.year]\n",
    "print(yearstr)\n",
    "\n",
    "monthstr = []\n",
    "pdmonths = pd.period_range(start=date_min, end=date_max, freq='M')\n",
    "#print(np.unique(pdmonths.month))\n",
    "[monthstr.append(f'{month:0>2}') for month in np.unique(pdmonths.month)]\n",
    "print(monthstr)\n",
    "\n",
    "daystr = []\n",
    "pddays = pd.period_range(start=date_min, end=date_max, freq='D')\n",
    "#print(np.unique(pddays.day))\n",
    "[daystr.append(f'{day:0>2}') for day in np.unique(pddays.day)]\n",
    "print(daystr)\n",
    "\n"
   ]
  },
  {
   "cell_type": "code",
   "execution_count": 54,
   "metadata": {},
   "outputs": [
    {
     "name": "stdout",
     "output_type": "stream",
     "text": [
      "['10m_u_component_of_wind', '10m_v_component_of_wind', 'mean_sea_level_pressure', '2m_dewpoint_temperature', 'relative_humidity', 'surface_net_solar_radiation', '2m_temperature', 'total_cloud_cover']\n",
      "['2021']\n",
      "['07']\n",
      "['01']\n"
     ]
    }
   ],
   "source": [
    "# tests to change download_era5.py to deal with CDS API limitation: https://github.com/c-scale-community/use-case-hisea/issues/30\n",
    "from datetime import timedelta, datetime\n",
    "\n",
    "date_min = '2021-07-01'\n",
    "date_max = '2022-06-30'\n",
    "vars = ('10m_u_component_of_wind', '10m_v_component_of_wind', 'mean_sea_level_pressure', '2m_dewpoint_temperature', 'relative_humidity', 'surface_net_solar_radiation', '2m_temperature', 'total_cloud_cover')\n",
    "\n",
    "vars = list(vars)\n",
    "print(vars)\n",
    "\n",
    "delta = datetime.strptime(date_max, '%Y-%m-%d') - datetime.strptime(date_min, '%Y-%m-%d')\n",
    "i = 0\n",
    "day = datetime.strptime(date_min, '%Y-%m-%d').date() + timedelta(days=i)\n",
    "yearstr = [f'{day.year:0>4}']\n",
    "print(yearstr)\n",
    "monthstr = [f'{day.month:0>2}']\n",
    "print(monthstr)\n",
    "daystr = [f'{day.day:0>2}']\n",
    "print(daystr)\n",
    "\n"
   ]
  },
  {
   "cell_type": "code",
   "execution_count": null,
   "metadata": {},
   "outputs": [],
   "source": []
  }
 ],
 "metadata": {
  "kernelspec": {
   "display_name": "Python 3.9.12 ('base')",
   "language": "python",
   "name": "python3"
  },
  "language_info": {
   "codemirror_mode": {
    "name": "ipython",
    "version": 3
   },
   "file_extension": ".py",
   "mimetype": "text/x-python",
   "name": "python",
   "nbconvert_exporter": "python",
   "pygments_lexer": "ipython3",
   "version": "3.9.12"
  },
  "orig_nbformat": 4,
  "vscode": {
   "interpreter": {
    "hash": "5702069ab324e298b25bf22a3256178821a69813a1d201341c1bedfb7e6fbf9a"
   }
  }
 },
 "nbformat": 4,
 "nbformat_minor": 2
}
