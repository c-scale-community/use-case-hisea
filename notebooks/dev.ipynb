{
 "cells": [
  {
   "cell_type": "code",
   "execution_count": 24,
   "metadata": {},
   "outputs": [
    {
     "name": "stdout",
     "output_type": "stream",
     "text": [
      "j 0\n",
      "False\n",
      "True\n",
      "1\n"
     ]
    }
   ],
   "source": [
    "# tests to find solution for https://github.com/c-scale-community/use-case-hisea/issues/28\n",
    "\n",
    "from datetime import timedelta, datetime\n",
    "from pathlib import Path\n",
    "import subprocess\n",
    "import xarray as xr # note dependencies: dask, netCDF4\n",
    "\n",
    "vars = ('thetao', 'bottomT', 'so', 'zos', 'uo', 'vo')\n",
    "date_min = '2022-04-01'\n",
    "date_max = '2022-04-05'\n",
    "\n",
    "delta = datetime.strptime(date_max, '%Y-%m-%d') - datetime.strptime(date_min, '%Y-%m-%d')\n",
    "\n",
    "var = vars[0]\n",
    "i = 0\n",
    "day = datetime.strptime(date_min, '%Y-%m-%d').date() + timedelta(days=i)\n",
    "check_file = Path('/Users/backeb/Documents/data/tmp/cmems_'+str(var)+'_'+str(day)+'.nc')\n",
    "\n",
    "j=0\n",
    "while not check_file.is_file():\n",
    "    print('j '+str(i))\n",
    "    print(check_file.is_file())\n",
    "    open(check_file, 'a')\n",
    "    j+=1\n",
    "\n",
    "print(check_file.is_file())\n",
    "print(j)\n",
    "    "
   ]
  },
  {
   "cell_type": "code",
   "execution_count": 32,
   "metadata": {},
   "outputs": [
    {
     "name": "stdout",
     "output_type": "stream",
     "text": [
      "/Users/backeb/Documents/data/tmp/cmems_no3_2022-04-01.nc\n",
      "/Users/backeb/Documents/data/tmp/cmems_no3_2022-04-02.nc\n",
      "/Users/backeb/Documents/data/tmp/cmems_no3_2022-04-03.nc\n",
      "/Users/backeb/Documents/data/tmp/cmems_no3_2022-04-04.nc\n",
      "/Users/backeb/Documents/data/tmp/cmems_no3_2022-04-05.nc\n",
      "<xarray.Dataset>\n",
      "Dimensions:    (time: 25, depth: 50, latitude: 9, longitude: 9)\n",
      "Coordinates:\n",
      "  * depth      (depth) float32 0.494 1.541 2.646 ... 5.275e+03 5.728e+03\n",
      "  * latitude   (latitude) float32 36.5 36.75 37.0 37.25 ... 38.0 38.25 38.5\n",
      "  * time       (time) datetime64[ns] 2022-04-01T12:00:00 ... 2022-04-05T12:00:00\n",
      "  * longitude  (longitude) float32 22.5 22.75 23.0 23.25 ... 24.0 24.25 24.5\n",
      "Data variables:\n",
      "    no3        (time, depth, latitude, longitude) float32 0.2391 0.3665 ... nan\n",
      "Attributes: (12/19)\n",
      "    product:                       GLOBAL_ANALYSIS_FORECAST_BIO_001_028\n",
      "    producer:                      CMEMS - Global Monitoring and Forecasting ...\n",
      "    title:                         daily mean fields from Global Ocean Biogeo...\n",
      "    area:                          GLOBAL\n",
      "    quality_information_document:  http://marine.copernicus.eu/documents/QUID...\n",
      "    Conventions:                   CF-1.6\n",
      "    ...                            ...\n",
      "    product_user_manual:           http://marine.copernicus.eu/documents/PUM/...\n",
      "    forecast_type:                 forecast\n",
      "    bulletin_date:                 2022-07-20 00:00:00\n",
      "    _CoordSysBuilder:              ucar.nc2.dataset.conv.CF1Convention\n",
      "    comment:                       \n",
      "    history:                       Data extracted from dataset http://localho...\n"
     ]
    }
   ],
   "source": [
    "#### IGNORE THIS, I WAS BEING A RETARD #### \n",
    "# works fine with xr.open_mfdataset('/Users/backeb/Documents/data/tmp/*no3*.nc')\n",
    "# I was getting error in xr.open_mfdataset('/Users/backeb/Documents/data/tmp/*no3*.nc') BUT I WAS BEING AN IDIOT\n",
    "# ValueError: Could not find any dimension coordinates to use to order the datasets for concatenation\n",
    "# and using ds = xr.open_mfdataset('*no3*.nc', concat_dim='time', combine='nested') creates 25 time dimensions instead of the 5 expected\n",
    "\n",
    "from pathlib import Path\n",
    "import xarray as xr\n",
    "\n",
    "datasets = []\n",
    "#for path in Path('/Users/backeb/Documents/data/tmp/').iterdir():\n",
    "for path in sorted(Path('/Users/backeb/Documents/data/tmp/').rglob('*no3*.nc')):\n",
    "    print(path)\n",
    "    ds = xr.open_dataset(path)\n",
    "    datasets.append(ds)\n",
    "combined = xr.concat(datasets, dim='time')\n",
    "\n",
    "print(combined)"
   ]
  },
  {
   "cell_type": "code",
   "execution_count": null,
   "metadata": {},
   "outputs": [],
   "source": []
  }
 ],
 "metadata": {
  "kernelspec": {
   "display_name": "Python 3.9.12 ('base')",
   "language": "python",
   "name": "python3"
  },
  "language_info": {
   "codemirror_mode": {
    "name": "ipython",
    "version": 3
   },
   "file_extension": ".py",
   "mimetype": "text/x-python",
   "name": "python",
   "nbconvert_exporter": "python",
   "pygments_lexer": "ipython3",
   "version": "3.9.12"
  },
  "orig_nbformat": 4,
  "vscode": {
   "interpreter": {
    "hash": "5702069ab324e298b25bf22a3256178821a69813a1d201341c1bedfb7e6fbf9a"
   }
  }
 },
 "nbformat": 4,
 "nbformat_minor": 2
}
